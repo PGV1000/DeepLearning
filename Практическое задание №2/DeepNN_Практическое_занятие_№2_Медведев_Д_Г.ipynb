{
  "cells": [
    {
      "cell_type": "markdown",
      "metadata": {
        "id": "view-in-github",
        "colab_type": "text"
      },
      "source": [
        "<a href=\"https://colab.research.google.com/github/PGV1000/DeepLearning/blob/main/%D0%9F%D1%80%D0%B0%D0%BA%D1%82%D0%B8%D1%87%D0%B5%D1%81%D0%BA%D0%BE%D0%B5%20%D0%B7%D0%B0%D0%B4%D0%B0%D0%BD%D0%B8%D0%B5%20%E2%84%962/DeepNN_%D0%9F%D1%80%D0%B0%D0%BA%D1%82%D0%B8%D1%87%D0%B5%D1%81%D0%BA%D0%BE%D0%B5_%D0%B7%D0%B0%D0%BD%D1%8F%D1%82%D0%B8%D0%B5_%E2%84%962_%D0%9C%D0%B5%D0%B4%D0%B2%D0%B5%D0%B4%D0%B5%D0%B2_%D0%94_%D0%93.ipynb\" target=\"_parent\"><img src=\"https://colab.research.google.com/assets/colab-badge.svg\" alt=\"Open In Colab\"/></a>"
      ]
    },
    {
      "cell_type": "markdown",
      "metadata": {
        "id": "jVOridAYaoD_"
      },
      "source": [
        "# Практическая работа №2. Использование глубоких нейронных сетей для решения задач регрессии и классификации\n",
        "\n"
      ]
    },
    {
      "cell_type": "markdown",
      "metadata": {
        "id": "xfLS4L8wbf5M"
      },
      "source": [
        "**Ссылка на код с пары:**\n",
        "https://colab.research.google.com/drive/18EM8mrpURStkmbxWjZybWbWh23Si5b4A?usp=sharing\n"
      ]
    },
    {
      "cell_type": "markdown",
      "metadata": {
        "id": "ChzaEMuFavMw"
      },
      "source": [
        "## Задание №1. Обучение модели ИНС для решения задачи регрессии\n",
        "\n"
      ]
    },
    {
      "cell_type": "markdown",
      "metadata": {
        "id": "_AW7ypoN3qSi"
      },
      "source": [
        "Постройте глубокую нейронную сеть для предсказания цен на недвижимость в городе Бостон, используя датасет датасет boston_housing_price"
      ]
    },
    {
      "cell_type": "markdown",
      "metadata": {
        "id": "O1PDCog53nrg"
      },
      "source": [
        "[Описание датасета](https://www.hackersrealm.net/post/boston-house-price-prediction-analysis-using-python)"
      ]
    },
    {
      "cell_type": "markdown",
      "metadata": {
        "id": "QWLURy8z0u3k"
      },
      "source": [
        "#### 1.1. Загружаем исходные данные:"
      ]
    },
    {
      "cell_type": "code",
      "execution_count": 1,
      "metadata": {
        "colab": {
          "base_uri": "https://localhost:8080/"
        },
        "id": "d5yFZZ1H_RVI",
        "outputId": "bd20020d-66a2-4c43-85c8-0e557e67a4aa"
      },
      "outputs": [
        {
          "output_type": "stream",
          "name": "stdout",
          "text": [
            "Requirement already satisfied: gdown in /usr/local/lib/python3.10/dist-packages (4.7.3)\n",
            "Collecting gdown\n",
            "  Downloading gdown-5.1.0-py3-none-any.whl (17 kB)\n",
            "Requirement already satisfied: beautifulsoup4 in /usr/local/lib/python3.10/dist-packages (from gdown) (4.12.3)\n",
            "Requirement already satisfied: filelock in /usr/local/lib/python3.10/dist-packages (from gdown) (3.13.1)\n",
            "Requirement already satisfied: requests[socks] in /usr/local/lib/python3.10/dist-packages (from gdown) (2.31.0)\n",
            "Requirement already satisfied: tqdm in /usr/local/lib/python3.10/dist-packages (from gdown) (4.66.2)\n",
            "Requirement already satisfied: soupsieve>1.2 in /usr/local/lib/python3.10/dist-packages (from beautifulsoup4->gdown) (2.5)\n",
            "Requirement already satisfied: charset-normalizer<4,>=2 in /usr/local/lib/python3.10/dist-packages (from requests[socks]->gdown) (3.3.2)\n",
            "Requirement already satisfied: idna<4,>=2.5 in /usr/local/lib/python3.10/dist-packages (from requests[socks]->gdown) (3.6)\n",
            "Requirement already satisfied: urllib3<3,>=1.21.1 in /usr/local/lib/python3.10/dist-packages (from requests[socks]->gdown) (2.0.7)\n",
            "Requirement already satisfied: certifi>=2017.4.17 in /usr/local/lib/python3.10/dist-packages (from requests[socks]->gdown) (2024.2.2)\n",
            "Requirement already satisfied: PySocks!=1.5.7,>=1.5.6 in /usr/local/lib/python3.10/dist-packages (from requests[socks]->gdown) (1.7.1)\n",
            "Installing collected packages: gdown\n",
            "  Attempting uninstall: gdown\n",
            "    Found existing installation: gdown 4.7.3\n",
            "    Uninstalling gdown-4.7.3:\n",
            "      Successfully uninstalled gdown-4.7.3\n",
            "Successfully installed gdown-5.1.0\n",
            "/usr/local/lib/python3.10/dist-packages/gdown/__main__.py:132: FutureWarning: Option `--id` was deprecated in version 4.3.1 and will be removed in 5.0. You don't need to pass it anymore to use a file ID.\n",
            "  warnings.warn(\n",
            "Downloading...\n",
            "From: https://drive.google.com/uc?id=10EGlLf-Jj0Izben6B9yDoIi8xPGDnkC0\n",
            "To: /content/kaggle.json\n",
            "100% 63.0/63.0 [00:00<00:00, 265kB/s]\n"
          ]
        }
      ],
      "source": [
        "import pandas as pd\n",
        "import numpy as np\n",
        "!pip install --upgrade gdown\n",
        "!gdown --id 10EGlLf-Jj0Izben6B9yDoIi8xPGDnkC0\n",
        "\n",
        "\n",
        "\n",
        "\n",
        "# data_url = \"https://www.kaggle.com/datasets/puxama/bostoncsv\"\n",
        "# df = pd.read_csv(data_url)\n",
        "# df.drop(columns=['Unnamed: 0'], axis=0, inplace=True)\n",
        "# df.head()"
      ]
    },
    {
      "cell_type": "code",
      "execution_count": 2,
      "metadata": {
        "id": "HlFbVWOqMNuA"
      },
      "outputs": [],
      "source": [
        "!pip install -q kaggle"
      ]
    },
    {
      "cell_type": "code",
      "execution_count": 3,
      "metadata": {
        "id": "vqpgL_mlMSrl"
      },
      "outputs": [],
      "source": [
        "!mkdir -p ~/.kaggle\n",
        "!cp kaggle.json ~/.kaggle/"
      ]
    },
    {
      "cell_type": "code",
      "execution_count": 4,
      "metadata": {
        "id": "FT4yiqJVMhGe",
        "colab": {
          "base_uri": "https://localhost:8080/"
        },
        "outputId": "79490a19-d2e2-4084-ae78-6b81c874d3fd"
      },
      "outputs": [
        {
          "output_type": "stream",
          "name": "stdout",
          "text": [
            "Warning: Your Kaggle API key is readable by other users on this system! To fix this, you can run 'chmod 600 /root/.kaggle/kaggle.json'\n",
            "Downloading bostoncsv.zip to /content\n",
            "  0% 0.00/12.8k [00:00<?, ?B/s]\n",
            "100% 12.8k/12.8k [00:00<00:00, 29.5MB/s]\n"
          ]
        }
      ],
      "source": [
        "!kaggle datasets download -d puxama/bostoncsv"
      ]
    },
    {
      "cell_type": "code",
      "execution_count": 5,
      "metadata": {
        "id": "nEKwt9aSMmD_",
        "colab": {
          "base_uri": "https://localhost:8080/"
        },
        "outputId": "a8625e67-dcc1-4116-d372-2e2b5bbda90d"
      },
      "outputs": [
        {
          "output_type": "stream",
          "name": "stdout",
          "text": [
            "Archive:  bostoncsv.zip\n",
            "  inflating: Boston.csv              \n"
          ]
        }
      ],
      "source": [
        "!unzip bostoncsv.zip"
      ]
    },
    {
      "cell_type": "code",
      "execution_count": 6,
      "metadata": {
        "colab": {
          "base_uri": "https://localhost:8080/",
          "height": 206
        },
        "id": "iuQ-bBlMM5OM",
        "outputId": "a8739668-afca-4859-c38e-f0eea6fe5a1f"
      },
      "outputs": [
        {
          "output_type": "execute_result",
          "data": {
            "text/plain": [
              "      crim    zn  indus  chas    nox     rm   age     dis  rad  tax  ptratio  \\\n",
              "0  0.00632  18.0   2.31     0  0.538  6.575  65.2  4.0900    1  296     15.3   \n",
              "1  0.02731   0.0   7.07     0  0.469  6.421  78.9  4.9671    2  242     17.8   \n",
              "2  0.02729   0.0   7.07     0  0.469  7.185  61.1  4.9671    2  242     17.8   \n",
              "3  0.03237   0.0   2.18     0  0.458  6.998  45.8  6.0622    3  222     18.7   \n",
              "4  0.06905   0.0   2.18     0  0.458  7.147  54.2  6.0622    3  222     18.7   \n",
              "\n",
              "    black  lstat  \n",
              "0  396.90   4.98  \n",
              "1  396.90   9.14  \n",
              "2  392.83   4.03  \n",
              "3  394.63   2.94  \n",
              "4  396.90   5.33  "
            ],
            "text/html": [
              "\n",
              "  <div id=\"df-05b849dd-576e-4288-8812-97d3a67d6ee4\" class=\"colab-df-container\">\n",
              "    <div>\n",
              "<style scoped>\n",
              "    .dataframe tbody tr th:only-of-type {\n",
              "        vertical-align: middle;\n",
              "    }\n",
              "\n",
              "    .dataframe tbody tr th {\n",
              "        vertical-align: top;\n",
              "    }\n",
              "\n",
              "    .dataframe thead th {\n",
              "        text-align: right;\n",
              "    }\n",
              "</style>\n",
              "<table border=\"1\" class=\"dataframe\">\n",
              "  <thead>\n",
              "    <tr style=\"text-align: right;\">\n",
              "      <th></th>\n",
              "      <th>crim</th>\n",
              "      <th>zn</th>\n",
              "      <th>indus</th>\n",
              "      <th>chas</th>\n",
              "      <th>nox</th>\n",
              "      <th>rm</th>\n",
              "      <th>age</th>\n",
              "      <th>dis</th>\n",
              "      <th>rad</th>\n",
              "      <th>tax</th>\n",
              "      <th>ptratio</th>\n",
              "      <th>black</th>\n",
              "      <th>lstat</th>\n",
              "    </tr>\n",
              "  </thead>\n",
              "  <tbody>\n",
              "    <tr>\n",
              "      <th>0</th>\n",
              "      <td>0.00632</td>\n",
              "      <td>18.0</td>\n",
              "      <td>2.31</td>\n",
              "      <td>0</td>\n",
              "      <td>0.538</td>\n",
              "      <td>6.575</td>\n",
              "      <td>65.2</td>\n",
              "      <td>4.0900</td>\n",
              "      <td>1</td>\n",
              "      <td>296</td>\n",
              "      <td>15.3</td>\n",
              "      <td>396.90</td>\n",
              "      <td>4.98</td>\n",
              "    </tr>\n",
              "    <tr>\n",
              "      <th>1</th>\n",
              "      <td>0.02731</td>\n",
              "      <td>0.0</td>\n",
              "      <td>7.07</td>\n",
              "      <td>0</td>\n",
              "      <td>0.469</td>\n",
              "      <td>6.421</td>\n",
              "      <td>78.9</td>\n",
              "      <td>4.9671</td>\n",
              "      <td>2</td>\n",
              "      <td>242</td>\n",
              "      <td>17.8</td>\n",
              "      <td>396.90</td>\n",
              "      <td>9.14</td>\n",
              "    </tr>\n",
              "    <tr>\n",
              "      <th>2</th>\n",
              "      <td>0.02729</td>\n",
              "      <td>0.0</td>\n",
              "      <td>7.07</td>\n",
              "      <td>0</td>\n",
              "      <td>0.469</td>\n",
              "      <td>7.185</td>\n",
              "      <td>61.1</td>\n",
              "      <td>4.9671</td>\n",
              "      <td>2</td>\n",
              "      <td>242</td>\n",
              "      <td>17.8</td>\n",
              "      <td>392.83</td>\n",
              "      <td>4.03</td>\n",
              "    </tr>\n",
              "    <tr>\n",
              "      <th>3</th>\n",
              "      <td>0.03237</td>\n",
              "      <td>0.0</td>\n",
              "      <td>2.18</td>\n",
              "      <td>0</td>\n",
              "      <td>0.458</td>\n",
              "      <td>6.998</td>\n",
              "      <td>45.8</td>\n",
              "      <td>6.0622</td>\n",
              "      <td>3</td>\n",
              "      <td>222</td>\n",
              "      <td>18.7</td>\n",
              "      <td>394.63</td>\n",
              "      <td>2.94</td>\n",
              "    </tr>\n",
              "    <tr>\n",
              "      <th>4</th>\n",
              "      <td>0.06905</td>\n",
              "      <td>0.0</td>\n",
              "      <td>2.18</td>\n",
              "      <td>0</td>\n",
              "      <td>0.458</td>\n",
              "      <td>7.147</td>\n",
              "      <td>54.2</td>\n",
              "      <td>6.0622</td>\n",
              "      <td>3</td>\n",
              "      <td>222</td>\n",
              "      <td>18.7</td>\n",
              "      <td>396.90</td>\n",
              "      <td>5.33</td>\n",
              "    </tr>\n",
              "  </tbody>\n",
              "</table>\n",
              "</div>\n",
              "    <div class=\"colab-df-buttons\">\n",
              "\n",
              "  <div class=\"colab-df-container\">\n",
              "    <button class=\"colab-df-convert\" onclick=\"convertToInteractive('df-05b849dd-576e-4288-8812-97d3a67d6ee4')\"\n",
              "            title=\"Convert this dataframe to an interactive table.\"\n",
              "            style=\"display:none;\">\n",
              "\n",
              "  <svg xmlns=\"http://www.w3.org/2000/svg\" height=\"24px\" viewBox=\"0 -960 960 960\">\n",
              "    <path d=\"M120-120v-720h720v720H120Zm60-500h600v-160H180v160Zm220 220h160v-160H400v160Zm0 220h160v-160H400v160ZM180-400h160v-160H180v160Zm440 0h160v-160H620v160ZM180-180h160v-160H180v160Zm440 0h160v-160H620v160Z\"/>\n",
              "  </svg>\n",
              "    </button>\n",
              "\n",
              "  <style>\n",
              "    .colab-df-container {\n",
              "      display:flex;\n",
              "      gap: 12px;\n",
              "    }\n",
              "\n",
              "    .colab-df-convert {\n",
              "      background-color: #E8F0FE;\n",
              "      border: none;\n",
              "      border-radius: 50%;\n",
              "      cursor: pointer;\n",
              "      display: none;\n",
              "      fill: #1967D2;\n",
              "      height: 32px;\n",
              "      padding: 0 0 0 0;\n",
              "      width: 32px;\n",
              "    }\n",
              "\n",
              "    .colab-df-convert:hover {\n",
              "      background-color: #E2EBFA;\n",
              "      box-shadow: 0px 1px 2px rgba(60, 64, 67, 0.3), 0px 1px 3px 1px rgba(60, 64, 67, 0.15);\n",
              "      fill: #174EA6;\n",
              "    }\n",
              "\n",
              "    .colab-df-buttons div {\n",
              "      margin-bottom: 4px;\n",
              "    }\n",
              "\n",
              "    [theme=dark] .colab-df-convert {\n",
              "      background-color: #3B4455;\n",
              "      fill: #D2E3FC;\n",
              "    }\n",
              "\n",
              "    [theme=dark] .colab-df-convert:hover {\n",
              "      background-color: #434B5C;\n",
              "      box-shadow: 0px 1px 3px 1px rgba(0, 0, 0, 0.15);\n",
              "      filter: drop-shadow(0px 1px 2px rgba(0, 0, 0, 0.3));\n",
              "      fill: #FFFFFF;\n",
              "    }\n",
              "  </style>\n",
              "\n",
              "    <script>\n",
              "      const buttonEl =\n",
              "        document.querySelector('#df-05b849dd-576e-4288-8812-97d3a67d6ee4 button.colab-df-convert');\n",
              "      buttonEl.style.display =\n",
              "        google.colab.kernel.accessAllowed ? 'block' : 'none';\n",
              "\n",
              "      async function convertToInteractive(key) {\n",
              "        const element = document.querySelector('#df-05b849dd-576e-4288-8812-97d3a67d6ee4');\n",
              "        const dataTable =\n",
              "          await google.colab.kernel.invokeFunction('convertToInteractive',\n",
              "                                                    [key], {});\n",
              "        if (!dataTable) return;\n",
              "\n",
              "        const docLinkHtml = 'Like what you see? Visit the ' +\n",
              "          '<a target=\"_blank\" href=https://colab.research.google.com/notebooks/data_table.ipynb>data table notebook</a>'\n",
              "          + ' to learn more about interactive tables.';\n",
              "        element.innerHTML = '';\n",
              "        dataTable['output_type'] = 'display_data';\n",
              "        await google.colab.output.renderOutput(dataTable, element);\n",
              "        const docLink = document.createElement('div');\n",
              "        docLink.innerHTML = docLinkHtml;\n",
              "        element.appendChild(docLink);\n",
              "      }\n",
              "    </script>\n",
              "  </div>\n",
              "\n",
              "\n",
              "<div id=\"df-ac4eac11-0514-4a7e-8314-1a1425e8e1b7\">\n",
              "  <button class=\"colab-df-quickchart\" onclick=\"quickchart('df-ac4eac11-0514-4a7e-8314-1a1425e8e1b7')\"\n",
              "            title=\"Suggest charts\"\n",
              "            style=\"display:none;\">\n",
              "\n",
              "<svg xmlns=\"http://www.w3.org/2000/svg\" height=\"24px\"viewBox=\"0 0 24 24\"\n",
              "     width=\"24px\">\n",
              "    <g>\n",
              "        <path d=\"M19 3H5c-1.1 0-2 .9-2 2v14c0 1.1.9 2 2 2h14c1.1 0 2-.9 2-2V5c0-1.1-.9-2-2-2zM9 17H7v-7h2v7zm4 0h-2V7h2v10zm4 0h-2v-4h2v4z\"/>\n",
              "    </g>\n",
              "</svg>\n",
              "  </button>\n",
              "\n",
              "<style>\n",
              "  .colab-df-quickchart {\n",
              "      --bg-color: #E8F0FE;\n",
              "      --fill-color: #1967D2;\n",
              "      --hover-bg-color: #E2EBFA;\n",
              "      --hover-fill-color: #174EA6;\n",
              "      --disabled-fill-color: #AAA;\n",
              "      --disabled-bg-color: #DDD;\n",
              "  }\n",
              "\n",
              "  [theme=dark] .colab-df-quickchart {\n",
              "      --bg-color: #3B4455;\n",
              "      --fill-color: #D2E3FC;\n",
              "      --hover-bg-color: #434B5C;\n",
              "      --hover-fill-color: #FFFFFF;\n",
              "      --disabled-bg-color: #3B4455;\n",
              "      --disabled-fill-color: #666;\n",
              "  }\n",
              "\n",
              "  .colab-df-quickchart {\n",
              "    background-color: var(--bg-color);\n",
              "    border: none;\n",
              "    border-radius: 50%;\n",
              "    cursor: pointer;\n",
              "    display: none;\n",
              "    fill: var(--fill-color);\n",
              "    height: 32px;\n",
              "    padding: 0;\n",
              "    width: 32px;\n",
              "  }\n",
              "\n",
              "  .colab-df-quickchart:hover {\n",
              "    background-color: var(--hover-bg-color);\n",
              "    box-shadow: 0 1px 2px rgba(60, 64, 67, 0.3), 0 1px 3px 1px rgba(60, 64, 67, 0.15);\n",
              "    fill: var(--button-hover-fill-color);\n",
              "  }\n",
              "\n",
              "  .colab-df-quickchart-complete:disabled,\n",
              "  .colab-df-quickchart-complete:disabled:hover {\n",
              "    background-color: var(--disabled-bg-color);\n",
              "    fill: var(--disabled-fill-color);\n",
              "    box-shadow: none;\n",
              "  }\n",
              "\n",
              "  .colab-df-spinner {\n",
              "    border: 2px solid var(--fill-color);\n",
              "    border-color: transparent;\n",
              "    border-bottom-color: var(--fill-color);\n",
              "    animation:\n",
              "      spin 1s steps(1) infinite;\n",
              "  }\n",
              "\n",
              "  @keyframes spin {\n",
              "    0% {\n",
              "      border-color: transparent;\n",
              "      border-bottom-color: var(--fill-color);\n",
              "      border-left-color: var(--fill-color);\n",
              "    }\n",
              "    20% {\n",
              "      border-color: transparent;\n",
              "      border-left-color: var(--fill-color);\n",
              "      border-top-color: var(--fill-color);\n",
              "    }\n",
              "    30% {\n",
              "      border-color: transparent;\n",
              "      border-left-color: var(--fill-color);\n",
              "      border-top-color: var(--fill-color);\n",
              "      border-right-color: var(--fill-color);\n",
              "    }\n",
              "    40% {\n",
              "      border-color: transparent;\n",
              "      border-right-color: var(--fill-color);\n",
              "      border-top-color: var(--fill-color);\n",
              "    }\n",
              "    60% {\n",
              "      border-color: transparent;\n",
              "      border-right-color: var(--fill-color);\n",
              "    }\n",
              "    80% {\n",
              "      border-color: transparent;\n",
              "      border-right-color: var(--fill-color);\n",
              "      border-bottom-color: var(--fill-color);\n",
              "    }\n",
              "    90% {\n",
              "      border-color: transparent;\n",
              "      border-bottom-color: var(--fill-color);\n",
              "    }\n",
              "  }\n",
              "</style>\n",
              "\n",
              "  <script>\n",
              "    async function quickchart(key) {\n",
              "      const quickchartButtonEl =\n",
              "        document.querySelector('#' + key + ' button');\n",
              "      quickchartButtonEl.disabled = true;  // To prevent multiple clicks.\n",
              "      quickchartButtonEl.classList.add('colab-df-spinner');\n",
              "      try {\n",
              "        const charts = await google.colab.kernel.invokeFunction(\n",
              "            'suggestCharts', [key], {});\n",
              "      } catch (error) {\n",
              "        console.error('Error during call to suggestCharts:', error);\n",
              "      }\n",
              "      quickchartButtonEl.classList.remove('colab-df-spinner');\n",
              "      quickchartButtonEl.classList.add('colab-df-quickchart-complete');\n",
              "    }\n",
              "    (() => {\n",
              "      let quickchartButtonEl =\n",
              "        document.querySelector('#df-ac4eac11-0514-4a7e-8314-1a1425e8e1b7 button');\n",
              "      quickchartButtonEl.style.display =\n",
              "        google.colab.kernel.accessAllowed ? 'block' : 'none';\n",
              "    })();\n",
              "  </script>\n",
              "</div>\n",
              "    </div>\n",
              "  </div>\n"
            ],
            "application/vnd.google.colaboratory.intrinsic+json": {
              "type": "dataframe",
              "variable_name": "x",
              "summary": "{\n  \"name\": \"x\",\n  \"rows\": 506,\n  \"fields\": [\n    {\n      \"column\": \"crim\",\n      \"properties\": {\n        \"dtype\": \"number\",\n        \"std\": 8.60154510533249,\n        \"min\": 0.00632,\n        \"max\": 88.9762,\n        \"num_unique_values\": 504,\n        \"samples\": [\n          0.09178,\n          0.05644,\n          0.10574\n        ],\n        \"semantic_type\": \"\",\n        \"description\": \"\"\n      }\n    },\n    {\n      \"column\": \"zn\",\n      \"properties\": {\n        \"dtype\": \"number\",\n        \"std\": 23.32245299451514,\n        \"min\": 0.0,\n        \"max\": 100.0,\n        \"num_unique_values\": 26,\n        \"samples\": [\n          25.0,\n          30.0,\n          18.0\n        ],\n        \"semantic_type\": \"\",\n        \"description\": \"\"\n      }\n    },\n    {\n      \"column\": \"indus\",\n      \"properties\": {\n        \"dtype\": \"number\",\n        \"std\": 6.860352940897585,\n        \"min\": 0.46,\n        \"max\": 27.74,\n        \"num_unique_values\": 76,\n        \"samples\": [\n          8.14,\n          1.47,\n          1.22\n        ],\n        \"semantic_type\": \"\",\n        \"description\": \"\"\n      }\n    },\n    {\n      \"column\": \"chas\",\n      \"properties\": {\n        \"dtype\": \"number\",\n        \"std\": 0,\n        \"min\": 0,\n        \"max\": 1,\n        \"num_unique_values\": 2,\n        \"samples\": [\n          1,\n          0\n        ],\n        \"semantic_type\": \"\",\n        \"description\": \"\"\n      }\n    },\n    {\n      \"column\": \"nox\",\n      \"properties\": {\n        \"dtype\": \"number\",\n        \"std\": 0.11587767566755595,\n        \"min\": 0.385,\n        \"max\": 0.871,\n        \"num_unique_values\": 81,\n        \"samples\": [\n          0.401,\n          0.538\n        ],\n        \"semantic_type\": \"\",\n        \"description\": \"\"\n      }\n    },\n    {\n      \"column\": \"rm\",\n      \"properties\": {\n        \"dtype\": \"number\",\n        \"std\": 0.7026171434153233,\n        \"min\": 3.561,\n        \"max\": 8.78,\n        \"num_unique_values\": 446,\n        \"samples\": [\n          6.849,\n          4.88\n        ],\n        \"semantic_type\": \"\",\n        \"description\": \"\"\n      }\n    },\n    {\n      \"column\": \"age\",\n      \"properties\": {\n        \"dtype\": \"number\",\n        \"std\": 28.148861406903617,\n        \"min\": 2.9,\n        \"max\": 100.0,\n        \"num_unique_values\": 356,\n        \"samples\": [\n          51.8,\n          33.8\n        ],\n        \"semantic_type\": \"\",\n        \"description\": \"\"\n      }\n    },\n    {\n      \"column\": \"dis\",\n      \"properties\": {\n        \"dtype\": \"number\",\n        \"std\": 2.105710126627611,\n        \"min\": 1.1296,\n        \"max\": 12.1265,\n        \"num_unique_values\": 412,\n        \"samples\": [\n          2.2955,\n          4.2515\n        ],\n        \"semantic_type\": \"\",\n        \"description\": \"\"\n      }\n    },\n    {\n      \"column\": \"rad\",\n      \"properties\": {\n        \"dtype\": \"number\",\n        \"std\": 8,\n        \"min\": 1,\n        \"max\": 24,\n        \"num_unique_values\": 9,\n        \"samples\": [\n          7,\n          2\n        ],\n        \"semantic_type\": \"\",\n        \"description\": \"\"\n      }\n    },\n    {\n      \"column\": \"tax\",\n      \"properties\": {\n        \"dtype\": \"number\",\n        \"std\": 168,\n        \"min\": 187,\n        \"max\": 711,\n        \"num_unique_values\": 66,\n        \"samples\": [\n          370,\n          666\n        ],\n        \"semantic_type\": \"\",\n        \"description\": \"\"\n      }\n    },\n    {\n      \"column\": \"ptratio\",\n      \"properties\": {\n        \"dtype\": \"number\",\n        \"std\": 2.1649455237144406,\n        \"min\": 12.6,\n        \"max\": 22.0,\n        \"num_unique_values\": 46,\n        \"samples\": [\n          19.6,\n          15.6\n        ],\n        \"semantic_type\": \"\",\n        \"description\": \"\"\n      }\n    },\n    {\n      \"column\": \"black\",\n      \"properties\": {\n        \"dtype\": \"number\",\n        \"std\": 91.29486438415783,\n        \"min\": 0.32,\n        \"max\": 396.9,\n        \"num_unique_values\": 357,\n        \"samples\": [\n          396.24,\n          395.11\n        ],\n        \"semantic_type\": \"\",\n        \"description\": \"\"\n      }\n    },\n    {\n      \"column\": \"lstat\",\n      \"properties\": {\n        \"dtype\": \"number\",\n        \"std\": 7.141061511348571,\n        \"min\": 1.73,\n        \"max\": 37.97,\n        \"num_unique_values\": 455,\n        \"samples\": [\n          6.15,\n          4.32\n        ],\n        \"semantic_type\": \"\",\n        \"description\": \"\"\n      }\n    }\n  ]\n}"
            }
          },
          "metadata": {},
          "execution_count": 6
        }
      ],
      "source": [
        "df = pd.read_csv(\"Boston.csv\")\n",
        "x = df.drop(['Unnamed: 0', 'medv'], axis=1)\n",
        "y = df['medv']\n",
        "\n",
        "x.head()"
      ]
    },
    {
      "cell_type": "code",
      "source": [
        "print(x.describe())"
      ],
      "metadata": {
        "id": "HdO2mmjz5cvT",
        "colab": {
          "base_uri": "https://localhost:8080/"
        },
        "outputId": "ee210caa-963b-4029-d74f-b2e15f89b860"
      },
      "execution_count": 7,
      "outputs": [
        {
          "output_type": "stream",
          "name": "stdout",
          "text": [
            "             crim          zn       indus        chas         nox          rm  \\\n",
            "count  506.000000  506.000000  506.000000  506.000000  506.000000  506.000000   \n",
            "mean     3.613524   11.363636   11.136779    0.069170    0.554695    6.284634   \n",
            "std      8.601545   23.322453    6.860353    0.253994    0.115878    0.702617   \n",
            "min      0.006320    0.000000    0.460000    0.000000    0.385000    3.561000   \n",
            "25%      0.082045    0.000000    5.190000    0.000000    0.449000    5.885500   \n",
            "50%      0.256510    0.000000    9.690000    0.000000    0.538000    6.208500   \n",
            "75%      3.677083   12.500000   18.100000    0.000000    0.624000    6.623500   \n",
            "max     88.976200  100.000000   27.740000    1.000000    0.871000    8.780000   \n",
            "\n",
            "              age         dis         rad         tax     ptratio       black  \\\n",
            "count  506.000000  506.000000  506.000000  506.000000  506.000000  506.000000   \n",
            "mean    68.574901    3.795043    9.549407  408.237154   18.455534  356.674032   \n",
            "std     28.148861    2.105710    8.707259  168.537116    2.164946   91.294864   \n",
            "min      2.900000    1.129600    1.000000  187.000000   12.600000    0.320000   \n",
            "25%     45.025000    2.100175    4.000000  279.000000   17.400000  375.377500   \n",
            "50%     77.500000    3.207450    5.000000  330.000000   19.050000  391.440000   \n",
            "75%     94.075000    5.188425   24.000000  666.000000   20.200000  396.225000   \n",
            "max    100.000000   12.126500   24.000000  711.000000   22.000000  396.900000   \n",
            "\n",
            "            lstat  \n",
            "count  506.000000  \n",
            "mean    12.653063  \n",
            "std      7.141062  \n",
            "min      1.730000  \n",
            "25%      6.950000  \n",
            "50%     11.360000  \n",
            "75%     16.955000  \n",
            "max     37.970000  \n"
          ]
        }
      ]
    },
    {
      "cell_type": "code",
      "execution_count": 8,
      "metadata": {
        "colab": {
          "base_uri": "https://localhost:8080/"
        },
        "id": "EDky_2FAOCui",
        "outputId": "60af1f4f-a840-4df1-97c3-ce42a428467d"
      },
      "outputs": [
        {
          "output_type": "execute_result",
          "data": {
            "text/plain": [
              "((404, 13), (404,))"
            ]
          },
          "metadata": {},
          "execution_count": 8
        }
      ],
      "source": [
        "from sklearn.model_selection import train_test_split\n",
        "\n",
        "x_train, x_test, y_train, y_test = train_test_split(x, y, test_size=0.2, random_state=1)\n",
        "x_train.shape, y_train.shape"
      ]
    },
    {
      "cell_type": "markdown",
      "metadata": {
        "id": "815ut8JJTIM7"
      },
      "source": [
        "#### 1.2. Проектируем архитектуру для этой задачи"
      ]
    },
    {
      "cell_type": "code",
      "execution_count": 9,
      "metadata": {
        "id": "gKm-yRHhDCLi"
      },
      "outputs": [],
      "source": [
        "\n",
        "from sklearn.preprocessing import MinMaxScaler\n",
        "\n",
        "\n",
        "scaler = MinMaxScaler()\n",
        "\n",
        "x_train_n = scaler.fit_transform(x_train)\n",
        "x_test_n = scaler.transform(x_test)"
      ]
    },
    {
      "cell_type": "code",
      "source": [
        "# Сохранение модели scaler\n",
        "import pickle\n",
        "\n",
        "with open(\"scaler.pkl\", \"wb\") as f:\n",
        "    pickle.dump(scaler, f)"
      ],
      "metadata": {
        "id": "Rf7w7a5O4Jxb"
      },
      "execution_count": 10,
      "outputs": []
    },
    {
      "cell_type": "code",
      "execution_count": 11,
      "metadata": {
        "colab": {
          "base_uri": "https://localhost:8080/"
        },
        "id": "alrRyjbs1c8s",
        "outputId": "eac5c840-7217-4893-94b3-fc51f7c557f0"
      },
      "outputs": [
        {
          "output_type": "stream",
          "name": "stdout",
          "text": [
            "Model: \"sequential\"\n",
            "_________________________________________________________________\n",
            " Layer (type)                Output Shape              Param #   \n",
            "=================================================================\n",
            " dense (Dense)               (None, 26)                364       \n",
            "                                                                 \n",
            " dense_1 (Dense)             (None, 13)                351       \n",
            "                                                                 \n",
            " dense_2 (Dense)             (None, 1)                 14        \n",
            "                                                                 \n",
            "=================================================================\n",
            "Total params: 729 (2.85 KB)\n",
            "Trainable params: 729 (2.85 KB)\n",
            "Non-trainable params: 0 (0.00 Byte)\n",
            "_________________________________________________________________\n"
          ]
        }
      ],
      "source": [
        "# Ваш код\n",
        "\n",
        "from keras.layers import Dense\n",
        "from keras.models import Sequential\n",
        "from keras.optimizers import SGD, Adam\n",
        "\n",
        "\n",
        "model = Sequential([\n",
        "    Dense(26, input_shape=(13,), activation='relu'),\n",
        "    Dense(13, input_shape=(), activation='relu'),\n",
        "    Dense(1, activation='relu')\n",
        "])\n",
        "\n",
        "model.summary()"
      ]
    },
    {
      "cell_type": "markdown",
      "metadata": {
        "id": "F9E1W4yCT0YC"
      },
      "source": [
        "#### 1.3. Компилируем модель ИНС\n",
        "\n",
        "Подберите нужную функцию потерь и метрику."
      ]
    },
    {
      "cell_type": "code",
      "execution_count": 12,
      "metadata": {
        "id": "Fu8VHdqV1gqy"
      },
      "outputs": [],
      "source": [
        "# Ваш код\n",
        "SPEED = 0.1\n",
        "EPOCHS = 40\n",
        "model.compile(optimizer=Adam(learning_rate=SPEED), loss='mse', metrics='mae')"
      ]
    },
    {
      "cell_type": "markdown",
      "metadata": {
        "id": "ebac-dNAUBtX"
      },
      "source": [
        "#### 1.4. Обучаем модель ИНС"
      ]
    },
    {
      "cell_type": "code",
      "execution_count": 13,
      "metadata": {
        "colab": {
          "base_uri": "https://localhost:8080/"
        },
        "id": "LcVz6t601hFI",
        "outputId": "2cab6077-e8ed-46f3-e6a8-131ec9fb5c02"
      },
      "outputs": [
        {
          "output_type": "stream",
          "name": "stdout",
          "text": [
            "Epoch 1/40\n",
            "13/13 [==============================] - 4s 38ms/step - loss: 247.7151 - mae: 12.4703 - val_loss: 84.6479 - val_mae: 6.4414\n",
            "Epoch 2/40\n",
            "13/13 [==============================] - 0s 12ms/step - loss: 74.9953 - mae: 6.2844 - val_loss: 66.2269 - val_mae: 5.8194\n",
            "Epoch 3/40\n",
            "13/13 [==============================] - 0s 13ms/step - loss: 54.1917 - mae: 5.2072 - val_loss: 52.3343 - val_mae: 5.8220\n",
            "Epoch 4/40\n",
            "13/13 [==============================] - 0s 10ms/step - loss: 40.4473 - mae: 4.4695 - val_loss: 39.2415 - val_mae: 5.1084\n",
            "Epoch 5/40\n",
            "13/13 [==============================] - 0s 10ms/step - loss: 31.2088 - mae: 3.7089 - val_loss: 27.9548 - val_mae: 3.8667\n",
            "Epoch 6/40\n",
            "13/13 [==============================] - 0s 13ms/step - loss: 22.8662 - mae: 3.1900 - val_loss: 20.1423 - val_mae: 3.1731\n",
            "Epoch 7/40\n",
            "13/13 [==============================] - 0s 12ms/step - loss: 22.0223 - mae: 3.1480 - val_loss: 18.5032 - val_mae: 3.1539\n",
            "Epoch 8/40\n",
            "13/13 [==============================] - 0s 11ms/step - loss: 19.5111 - mae: 2.8646 - val_loss: 18.3410 - val_mae: 3.3678\n",
            "Epoch 9/40\n",
            "13/13 [==============================] - 0s 10ms/step - loss: 19.9444 - mae: 3.0326 - val_loss: 16.5672 - val_mae: 2.7884\n",
            "Epoch 10/40\n",
            "13/13 [==============================] - 0s 11ms/step - loss: 19.9473 - mae: 2.9200 - val_loss: 15.6546 - val_mae: 2.8272\n",
            "Epoch 11/40\n",
            "13/13 [==============================] - 0s 10ms/step - loss: 18.7664 - mae: 2.7936 - val_loss: 16.4407 - val_mae: 3.2036\n",
            "Epoch 12/40\n",
            "13/13 [==============================] - 0s 21ms/step - loss: 18.6563 - mae: 2.8228 - val_loss: 15.6173 - val_mae: 3.0555\n",
            "Epoch 13/40\n",
            "13/13 [==============================] - 0s 16ms/step - loss: 17.9337 - mae: 2.7629 - val_loss: 14.4806 - val_mae: 2.7023\n",
            "Epoch 14/40\n",
            "13/13 [==============================] - 0s 10ms/step - loss: 16.7711 - mae: 2.6316 - val_loss: 23.1666 - val_mae: 4.0425\n",
            "Epoch 15/40\n",
            "13/13 [==============================] - 0s 9ms/step - loss: 19.3914 - mae: 3.0497 - val_loss: 17.5451 - val_mae: 2.8277\n",
            "Epoch 16/40\n",
            "13/13 [==============================] - 0s 19ms/step - loss: 16.9226 - mae: 2.7376 - val_loss: 13.5739 - val_mae: 2.5739\n",
            "Epoch 17/40\n",
            "13/13 [==============================] - 0s 11ms/step - loss: 17.4096 - mae: 2.7679 - val_loss: 14.1692 - val_mae: 2.7634\n",
            "Epoch 18/40\n",
            "13/13 [==============================] - 0s 10ms/step - loss: 17.4917 - mae: 2.8372 - val_loss: 18.1785 - val_mae: 3.4901\n",
            "Epoch 19/40\n",
            "13/13 [==============================] - 0s 14ms/step - loss: 21.8854 - mae: 3.2280 - val_loss: 17.6543 - val_mae: 3.1369\n",
            "Epoch 20/40\n",
            "13/13 [==============================] - 0s 11ms/step - loss: 18.0971 - mae: 2.8944 - val_loss: 14.5473 - val_mae: 2.6521\n",
            "Epoch 21/40\n",
            "13/13 [==============================] - 0s 9ms/step - loss: 18.2832 - mae: 2.9201 - val_loss: 15.4061 - val_mae: 2.6996\n",
            "Epoch 22/40\n",
            "13/13 [==============================] - 0s 10ms/step - loss: 16.6328 - mae: 2.7709 - val_loss: 12.3792 - val_mae: 2.4727\n",
            "Epoch 23/40\n",
            "13/13 [==============================] - 0s 11ms/step - loss: 15.4882 - mae: 2.5981 - val_loss: 13.0219 - val_mae: 2.6891\n",
            "Epoch 24/40\n",
            "13/13 [==============================] - 0s 10ms/step - loss: 17.1455 - mae: 2.8053 - val_loss: 15.5580 - val_mae: 3.1069\n",
            "Epoch 25/40\n",
            "13/13 [==============================] - 0s 14ms/step - loss: 17.3450 - mae: 2.9221 - val_loss: 16.8376 - val_mae: 2.8495\n",
            "Epoch 26/40\n",
            "13/13 [==============================] - 0s 26ms/step - loss: 16.9762 - mae: 2.8844 - val_loss: 14.0922 - val_mae: 2.9328\n",
            "Epoch 27/40\n",
            "13/13 [==============================] - 0s 15ms/step - loss: 14.9518 - mae: 2.6070 - val_loss: 13.0690 - val_mae: 2.8427\n",
            "Epoch 28/40\n",
            "13/13 [==============================] - 0s 20ms/step - loss: 15.2125 - mae: 2.7882 - val_loss: 14.1003 - val_mae: 2.7325\n",
            "Epoch 29/40\n",
            "13/13 [==============================] - 0s 16ms/step - loss: 18.3846 - mae: 3.0204 - val_loss: 18.4831 - val_mae: 3.5961\n",
            "Epoch 30/40\n",
            "13/13 [==============================] - 0s 19ms/step - loss: 16.1031 - mae: 2.8160 - val_loss: 18.7595 - val_mae: 3.2036\n",
            "Epoch 31/40\n",
            "13/13 [==============================] - 0s 16ms/step - loss: 15.6748 - mae: 2.8029 - val_loss: 10.3438 - val_mae: 2.4130\n",
            "Epoch 32/40\n",
            "13/13 [==============================] - 0s 15ms/step - loss: 15.0948 - mae: 2.7186 - val_loss: 13.8802 - val_mae: 2.9947\n",
            "Epoch 33/40\n",
            "13/13 [==============================] - 0s 17ms/step - loss: 13.5111 - mae: 2.5994 - val_loss: 10.7103 - val_mae: 2.4301\n",
            "Epoch 34/40\n",
            "13/13 [==============================] - 0s 16ms/step - loss: 11.6727 - mae: 2.3688 - val_loss: 11.2594 - val_mae: 2.5943\n",
            "Epoch 35/40\n",
            "13/13 [==============================] - 0s 19ms/step - loss: 11.7057 - mae: 2.4096 - val_loss: 14.2649 - val_mae: 2.7695\n",
            "Epoch 36/40\n",
            "13/13 [==============================] - 0s 19ms/step - loss: 13.6915 - mae: 2.6959 - val_loss: 13.7340 - val_mae: 2.9072\n",
            "Epoch 37/40\n",
            "13/13 [==============================] - 0s 15ms/step - loss: 12.7963 - mae: 2.5521 - val_loss: 14.8969 - val_mae: 2.7779\n",
            "Epoch 38/40\n",
            "13/13 [==============================] - 0s 10ms/step - loss: 15.1493 - mae: 2.7126 - val_loss: 10.6211 - val_mae: 2.4772\n",
            "Epoch 39/40\n",
            "13/13 [==============================] - 0s 12ms/step - loss: 13.7578 - mae: 2.5744 - val_loss: 10.9988 - val_mae: 2.4778\n",
            "Epoch 40/40\n",
            "13/13 [==============================] - 0s 14ms/step - loss: 12.6174 - mae: 2.5931 - val_loss: 10.2758 - val_mae: 2.3987\n"
          ]
        }
      ],
      "source": [
        "history = model.fit(x_train_n, y_train, validation_data=(x_test_n, y_test), epochs=EPOCHS)"
      ]
    },
    {
      "cell_type": "markdown",
      "metadata": {
        "id": "mvlGXR3yVMYo"
      },
      "source": [
        "#### 1.6. Делаем предсказания на тестовых данных"
      ]
    },
    {
      "cell_type": "code",
      "execution_count": 14,
      "metadata": {
        "colab": {
          "base_uri": "https://localhost:8080/"
        },
        "id": "Rui6kjT01jEA",
        "outputId": "cb577281-4eb9-4cd0-fa6c-2bdb116c4e3b"
      },
      "outputs": [
        {
          "output_type": "stream",
          "name": "stdout",
          "text": [
            "4/4 [==============================] - 0s 3ms/step\n"
          ]
        }
      ],
      "source": [
        "# Ваш код\n",
        "preds = model.predict(x_test_n)"
      ]
    },
    {
      "cell_type": "markdown",
      "metadata": {
        "id": "NLsmmLVkVhkL"
      },
      "source": [
        "#### 1.7. Вычисляем метрику качества на тестовых данных"
      ]
    },
    {
      "cell_type": "code",
      "execution_count": 15,
      "metadata": {
        "colab": {
          "base_uri": "https://localhost:8080/"
        },
        "id": "V8cpkQnr1jcS",
        "outputId": "b177e141-9fd0-4127-adf0-5cf85cbfa9f2"
      },
      "outputs": [
        {
          "output_type": "execute_result",
          "data": {
            "text/plain": [
              "2.398748528723623"
            ]
          },
          "metadata": {},
          "execution_count": 15
        }
      ],
      "source": [
        "# Ваш код\n",
        "from sklearn.metrics import mean_absolute_error\n",
        "\n",
        "mean_absolute_error(preds, y_test)"
      ]
    },
    {
      "cell_type": "markdown",
      "metadata": {
        "id": "d4eyitaoKx_E"
      },
      "source": [
        "#### 1.8. Строим график обучения"
      ]
    },
    {
      "cell_type": "code",
      "execution_count": 16,
      "metadata": {
        "colab": {
          "base_uri": "https://localhost:8080/",
          "height": 494
        },
        "id": "tw-JEpqm1jyK",
        "outputId": "2b6d2c17-187c-4101-cb8f-1da277dfbf87"
      },
      "outputs": [
        {
          "output_type": "execute_result",
          "data": {
            "text/plain": [
              "<matplotlib.legend.Legend at 0x78845af67a60>"
            ]
          },
          "metadata": {},
          "execution_count": 16
        },
        {
          "output_type": "display_data",
          "data": {
            "text/plain": [
              "<Figure size 640x480 with 1 Axes>"
            ],
            "image/png": "[encoded data removed]"
          },
          "metadata": {}
        }
      ],
      "source": [
        "# Ваш код\n",
        "# строим графики потерь и точности\n",
        "from google.colab.patches import cv2_imshow\n",
        "from matplotlib import pyplot as plt\n",
        "\n",
        "N = np.arange(0, EPOCHS)\n",
        "plt.style.use(\"ggplot\")\n",
        "plt.figure()\n",
        "plt.plot(N, history.history[\"loss\"], label=\"train_loss\")\n",
        "plt.plot(N, history.history[\"mae\"], label=\"train_mae\")\n",
        "plt.plot(N, history.history[\"val_loss\"], label=\"val_loss\")\n",
        "plt.plot(N, history.history[\"val_mae\"], label=\"val_mae\")\n",
        "plt.title(\"Training Loss and Accuracy (Simple NN)\")\n",
        "plt.xlabel(\"Epoch #\")\n",
        "plt.ylabel(\"Loss/Accuracy\")\n",
        "plt.legend()\n",
        "# plt.savefig('plot.png')\n",
        "# cv2_imshow(cv2.imread(\"plot.png\"))\n"
      ]
    },
    {
      "cell_type": "markdown",
      "metadata": {
        "id": "XYMsbjaoMEqT"
      },
      "source": [
        "#### 1.9. Построение графического интерфейса в Gradio Проверка обученной модели пользовательскими данными"
      ]
    },
    {
      "cell_type": "code",
      "execution_count": 17,
      "metadata": {
        "id": "3F9C2JiZf9uy"
      },
      "outputs": [],
      "source": [
        "def preprocess_input(features, scale_model=\"scaler.pkl\"):\n",
        "\n",
        "  \"\"\"\n",
        "  Функция преобразует входные данные в формат,\n",
        "  подходящий для модели машинного обучения.\n",
        "\n",
        "  Args:\n",
        "      features: Список или массив с входными признаками.\n",
        "      scale_model: Путь к файлу с сохраненной моделью масштабирования.\n",
        "\n",
        "  Returns:\n",
        "      Преобразованный массив признаков.\n",
        "  \"\"\"\n",
        "\n",
        "  try:\n",
        "    # Преобразование в NumPy массив\n",
        "    features = np.array(features)\n",
        "\n",
        "    # Проверка на пустой массив\n",
        "    if not features.size:\n",
        "      raise ValueError(\"Пустой массив признаков!\")\n",
        "\n",
        "    # Изменение размерности массива (8,) -> (1, 8)\n",
        "    features = features.reshape(1, -1)\n",
        "\n",
        "    # Загрузка модели масштабирования\n",
        "    with open(scale_model, \"rb\") as f:\n",
        "      scaler = pickle.load(f)\n",
        "\n",
        "    # Масштабирование признаков\n",
        "    features = scaler.transform(features)\n",
        "\n",
        "  except Exception as e:\n",
        "    raise ValueError(f\"Ошибка при предобработке: {e}\")\n",
        "\n",
        "  return features"
      ]
    },
    {
      "cell_type": "code",
      "execution_count": 18,
      "metadata": {
        "id": "9Ur4vQg_f-mB"
      },
      "outputs": [],
      "source": [
        "def predict_price(*features):\n",
        "\n",
        "  \"\"\"\n",
        "  Функция прогнозирует цену на основе предобработанных\n",
        "  входных признаков.\n",
        "\n",
        "  Args:\n",
        "      features: Список или массив с входными признаками.\n",
        "\n",
        "  Returns:\n",
        "      Прогнозируемая цена (в долларах).\n",
        "  \"\"\"\n",
        "\n",
        "  try:\n",
        "    # Предобработка входных признаков\n",
        "    features = preprocess_input(features)\n",
        "\n",
        "    # Прогнозирование цены\n",
        "    prediction = model.predict(features, verbose=0)\n",
        "\n",
        "    # Проверка на ошибки прогнозирования\n",
        "    if np.isnan(prediction).any():\n",
        "      raise ValueError(\"Ошибка при прогнозировании: NaN\")\n",
        "\n",
        "  except Exception as e:\n",
        "    raise ValueError(f\"Ошибка при прогнозировании: {e}\")\n",
        "\n",
        "  # Возвращение прогнозируемой цены\n",
        "  # (умножение на 1000 для отображения в тысячах долларов)\n",
        "  return f\"{prediction[0][0] * 1000}\""
      ]
    },
    {
      "cell_type": "code",
      "execution_count": 42,
      "metadata": {
        "colab": {
          "base_uri": "https://localhost:8080/",
          "height": 1000
        },
        "id": "x-dyoItx2JN_",
        "outputId": "3e88ad37-e033-4b85-a4c8-9e12b5aeec11"
      },
      "outputs": [
        {
          "output_type": "stream",
          "name": "stdout",
          "text": [
            "Requirement already satisfied: gradio in /usr/local/lib/python3.10/dist-packages (4.21.0)\n",
            "Requirement already satisfied: aiofiles<24.0,>=22.0 in /usr/local/lib/python3.10/dist-packages (from gradio) (23.2.1)\n",
            "Requirement already satisfied: altair<6.0,>=4.2.0 in /usr/local/lib/python3.10/dist-packages (from gradio) (4.2.2)\n",
            "Requirement already satisfied: fastapi in /usr/local/lib/python3.10/dist-packages (from gradio) (0.110.0)\n",
            "Requirement already satisfied: ffmpy in /usr/local/lib/python3.10/dist-packages (from gradio) (0.3.2)\n",
            "Requirement already satisfied: gradio-client==0.12.0 in /usr/local/lib/python3.10/dist-packages (from gradio) (0.12.0)\n",
            "Requirement already satisfied: httpx>=0.24.1 in /usr/local/lib/python3.10/dist-packages (from gradio) (0.27.0)\n",
            "Requirement already satisfied: huggingface-hub>=0.19.3 in /usr/local/lib/python3.10/dist-packages (from gradio) (0.20.3)\n",
            "Requirement already satisfied: importlib-resources<7.0,>=1.3 in /usr/local/lib/python3.10/dist-packages (from gradio) (6.1.2)\n",
            "Requirement already satisfied: jinja2<4.0 in /usr/local/lib/python3.10/dist-packages (from gradio) (3.1.3)\n",
            "Requirement already satisfied: markupsafe~=2.0 in /usr/local/lib/python3.10/dist-packages (from gradio) (2.1.5)\n",
            "Requirement already satisfied: matplotlib~=3.0 in /usr/local/lib/python3.10/dist-packages (from gradio) (3.7.1)\n",
            "Requirement already satisfied: numpy~=1.0 in /usr/local/lib/python3.10/dist-packages (from gradio) (1.25.2)\n",
            "Requirement already satisfied: orjson~=3.0 in /usr/local/lib/python3.10/dist-packages (from gradio) (3.9.15)\n",
            "Requirement already satisfied: packaging in /usr/local/lib/python3.10/dist-packages (from gradio) (23.2)\n",
            "Requirement already satisfied: pandas<3.0,>=1.0 in /usr/local/lib/python3.10/dist-packages (from gradio) (1.5.3)\n",
            "Requirement already satisfied: pillow<11.0,>=8.0 in /usr/local/lib/python3.10/dist-packages (from gradio) (9.4.0)\n",
            "Requirement already satisfied: pydantic>=2.0 in /usr/local/lib/python3.10/dist-packages (from gradio) (2.6.3)\n",
            "Requirement already satisfied: pydub in /usr/local/lib/python3.10/dist-packages (from gradio) (0.25.1)\n",
            "Requirement already satisfied: python-multipart>=0.0.9 in /usr/local/lib/python3.10/dist-packages (from gradio) (0.0.9)\n",
            "Requirement already satisfied: pyyaml<7.0,>=5.0 in /usr/local/lib/python3.10/dist-packages (from gradio) (6.0.1)\n",
            "Requirement already satisfied: ruff>=0.2.2 in /usr/local/lib/python3.10/dist-packages (from gradio) (0.3.2)\n",
            "Requirement already satisfied: semantic-version~=2.0 in /usr/local/lib/python3.10/dist-packages (from gradio) (2.10.0)\n",
            "Requirement already satisfied: tomlkit==0.12.0 in /usr/local/lib/python3.10/dist-packages (from gradio) (0.12.0)\n",
            "Requirement already satisfied: typer[all]<1.0,>=0.9 in /usr/local/lib/python3.10/dist-packages (from gradio) (0.9.0)\n",
            "Requirement already satisfied: typing-extensions~=4.0 in /usr/local/lib/python3.10/dist-packages (from gradio) (4.10.0)\n",
            "Requirement already satisfied: uvicorn>=0.14.0 in /usr/local/lib/python3.10/dist-packages (from gradio) (0.28.0)\n",
            "Requirement already satisfied: fsspec in /usr/local/lib/python3.10/dist-packages (from gradio-client==0.12.0->gradio) (2023.6.0)\n",
            "Requirement already satisfied: websockets<12.0,>=10.0 in /usr/local/lib/python3.10/dist-packages (from gradio-client==0.12.0->gradio) (11.0.3)\n",
            "Requirement already satisfied: entrypoints in /usr/local/lib/python3.10/dist-packages (from altair<6.0,>=4.2.0->gradio) (0.4)\n",
            "Requirement already satisfied: jsonschema>=3.0 in /usr/local/lib/python3.10/dist-packages (from altair<6.0,>=4.2.0->gradio) (4.19.2)\n",
            "Requirement already satisfied: toolz in /usr/local/lib/python3.10/dist-packages (from altair<6.0,>=4.2.0->gradio) (0.12.1)\n",
            "Requirement already satisfied: anyio in /usr/local/lib/python3.10/dist-packages (from httpx>=0.24.1->gradio) (3.7.1)\n",
            "Requirement already satisfied: certifi in /usr/local/lib/python3.10/dist-packages (from httpx>=0.24.1->gradio) (2024.2.2)\n",
            "Requirement already satisfied: httpcore==1.* in /usr/local/lib/python3.10/dist-packages (from httpx>=0.24.1->gradio) (1.0.4)\n",
            "Requirement already satisfied: idna in /usr/local/lib/python3.10/dist-packages (from httpx>=0.24.1->gradio) (3.6)\n",
            "Requirement already satisfied: sniffio in /usr/local/lib/python3.10/dist-packages (from httpx>=0.24.1->gradio) (1.3.1)\n",
            "Requirement already satisfied: h11<0.15,>=0.13 in /usr/local/lib/python3.10/dist-packages (from httpcore==1.*->httpx>=0.24.1->gradio) (0.14.0)\n",
            "Requirement already satisfied: filelock in /usr/local/lib/python3.10/dist-packages (from huggingface-hub>=0.19.3->gradio) (3.13.1)\n",
            "Requirement already satisfied: requests in /usr/local/lib/python3.10/dist-packages (from huggingface-hub>=0.19.3->gradio) (2.31.0)\n",
            "Requirement already satisfied: tqdm>=4.42.1 in /usr/local/lib/python3.10/dist-packages (from huggingface-hub>=0.19.3->gradio) (4.66.2)\n",
            "Requirement already satisfied: contourpy>=1.0.1 in /usr/local/lib/python3.10/dist-packages (from matplotlib~=3.0->gradio) (1.2.0)\n",
            "Requirement already satisfied: cycler>=0.10 in /usr/local/lib/python3.10/dist-packages (from matplotlib~=3.0->gradio) (0.12.1)\n",
            "Requirement already satisfied: fonttools>=4.22.0 in /usr/local/lib/python3.10/dist-packages (from matplotlib~=3.0->gradio) (4.49.0)\n",
            "Requirement already satisfied: kiwisolver>=1.0.1 in /usr/local/lib/python3.10/dist-packages (from matplotlib~=3.0->gradio) (1.4.5)\n",
            "Requirement already satisfied: pyparsing>=2.3.1 in /usr/local/lib/python3.10/dist-packages (from matplotlib~=3.0->gradio) (3.1.1)\n",
            "Requirement already satisfied: python-dateutil>=2.7 in /usr/local/lib/python3.10/dist-packages (from matplotlib~=3.0->gradio) (2.8.2)\n",
            "Requirement already satisfied: pytz>=2020.1 in /usr/local/lib/python3.10/dist-packages (from pandas<3.0,>=1.0->gradio) (2023.4)\n",
            "Requirement already satisfied: annotated-types>=0.4.0 in /usr/local/lib/python3.10/dist-packages (from pydantic>=2.0->gradio) (0.6.0)\n",
            "Requirement already satisfied: pydantic-core==2.16.3 in /usr/local/lib/python3.10/dist-packages (from pydantic>=2.0->gradio) (2.16.3)\n",
            "Requirement already satisfied: click<9.0.0,>=7.1.1 in /usr/local/lib/python3.10/dist-packages (from typer[all]<1.0,>=0.9->gradio) (8.1.7)\n",
            "Requirement already satisfied: colorama<0.5.0,>=0.4.3 in /usr/local/lib/python3.10/dist-packages (from typer[all]<1.0,>=0.9->gradio) (0.4.6)\n",
            "Requirement already satisfied: shellingham<2.0.0,>=1.3.0 in /usr/local/lib/python3.10/dist-packages (from typer[all]<1.0,>=0.9->gradio) (1.5.4)\n",
            "Requirement already satisfied: rich<14.0.0,>=10.11.0 in /usr/local/lib/python3.10/dist-packages (from typer[all]<1.0,>=0.9->gradio) (13.7.1)\n",
            "Requirement already satisfied: starlette<0.37.0,>=0.36.3 in /usr/local/lib/python3.10/dist-packages (from fastapi->gradio) (0.36.3)\n",
            "Requirement already satisfied: attrs>=22.2.0 in /usr/local/lib/python3.10/dist-packages (from jsonschema>=3.0->altair<6.0,>=4.2.0->gradio) (23.2.0)\n",
            "Requirement already satisfied: jsonschema-specifications>=2023.03.6 in /usr/local/lib/python3.10/dist-packages (from jsonschema>=3.0->altair<6.0,>=4.2.0->gradio) (2023.12.1)\n",
            "Requirement already satisfied: referencing>=0.28.4 in /usr/local/lib/python3.10/dist-packages (from jsonschema>=3.0->altair<6.0,>=4.2.0->gradio) (0.33.0)\n",
            "Requirement already satisfied: rpds-py>=0.7.1 in /usr/local/lib/python3.10/dist-packages (from jsonschema>=3.0->altair<6.0,>=4.2.0->gradio) (0.18.0)\n",
            "Requirement already satisfied: six>=1.5 in /usr/local/lib/python3.10/dist-packages (from python-dateutil>=2.7->matplotlib~=3.0->gradio) (1.16.0)\n",
            "Requirement already satisfied: markdown-it-py>=2.2.0 in /usr/local/lib/python3.10/dist-packages (from rich<14.0.0,>=10.11.0->typer[all]<1.0,>=0.9->gradio) (3.0.0)\n",
            "Requirement already satisfied: pygments<3.0.0,>=2.13.0 in /usr/local/lib/python3.10/dist-packages (from rich<14.0.0,>=10.11.0->typer[all]<1.0,>=0.9->gradio) (2.16.1)\n",
            "Requirement already satisfied: exceptiongroup in /usr/local/lib/python3.10/dist-packages (from anyio->httpx>=0.24.1->gradio) (1.2.0)\n",
            "Requirement already satisfied: charset-normalizer<4,>=2 in /usr/local/lib/python3.10/dist-packages (from requests->huggingface-hub>=0.19.3->gradio) (3.3.2)\n",
            "Requirement already satisfied: urllib3<3,>=1.21.1 in /usr/local/lib/python3.10/dist-packages (from requests->huggingface-hub>=0.19.3->gradio) (2.0.7)\n",
            "Requirement already satisfied: mdurl~=0.1 in /usr/local/lib/python3.10/dist-packages (from markdown-it-py>=2.2.0->rich<14.0.0,>=10.11.0->typer[all]<1.0,>=0.9->gradio) (0.1.2)\n",
            "Colab notebook detected. This cell will run indefinitely so that you can see errors and logs. To turn off, set debug=False in launch().\n",
            "Running on public URL: https://51751c7316379dbd3a.gradio.live\n",
            "\n",
            "This share link expires in 72 hours. For free permanent hosting and GPU upgrades, run `gradio deploy` from Terminal to deploy to Spaces (https://huggingface.co/spaces)\n"
          ]
        },
        {
          "output_type": "display_data",
          "data": {
            "text/plain": [
              "<IPython.core.display.HTML object>"
            ],
            "text/html": [
              "<div><iframe src=\"https://51751c7316379dbd3a.gradio.live\" width=\"100%\" height=\"500\" allow=\"autoplay; camera; microphone; clipboard-read; clipboard-write;\" frameborder=\"0\" allowfullscreen></iframe></div>"
            ]
          },
          "metadata": {}
        },
        {
          "output_type": "stream",
          "name": "stderr",
          "text": [
            "/usr/local/lib/python3.10/dist-packages/sklearn/base.py:439: UserWarning: X does not have valid feature names, but MinMaxScaler was fitted with feature names\n",
            "  warnings.warn(\n",
            "/usr/local/lib/python3.10/dist-packages/sklearn/base.py:439: UserWarning: X does not have valid feature names, but MinMaxScaler was fitted with feature names\n",
            "  warnings.warn(\n",
            "/usr/local/lib/python3.10/dist-packages/sklearn/base.py:439: UserWarning: X does not have valid feature names, but MinMaxScaler was fitted with feature names\n",
            "  warnings.warn(\n",
            "/usr/local/lib/python3.10/dist-packages/sklearn/base.py:439: UserWarning: X does not have valid feature names, but MinMaxScaler was fitted with feature names\n",
            "  warnings.warn(\n",
            "/usr/local/lib/python3.10/dist-packages/sklearn/base.py:439: UserWarning: X does not have valid feature names, but MinMaxScaler was fitted with feature names\n",
            "  warnings.warn(\n",
            "/usr/local/lib/python3.10/dist-packages/sklearn/base.py:439: UserWarning: X does not have valid feature names, but MinMaxScaler was fitted with feature names\n",
            "  warnings.warn(\n",
            "/usr/local/lib/python3.10/dist-packages/sklearn/base.py:439: UserWarning: X does not have valid feature names, but MinMaxScaler was fitted with feature names\n",
            "  warnings.warn(\n",
            "/usr/local/lib/python3.10/dist-packages/sklearn/base.py:439: UserWarning: X does not have valid feature names, but MinMaxScaler was fitted with feature names\n",
            "  warnings.warn(\n"
          ]
        },
        {
          "output_type": "stream",
          "name": "stdout",
          "text": [
            "Keyboard interruption in main thread... closing server.\n",
            "Killing tunnel 127.0.0.1:7860 <> https://51751c7316379dbd3a.gradio.live\n"
          ]
        },
        {
          "output_type": "execute_result",
          "data": {
            "text/plain": []
          },
          "metadata": {},
          "execution_count": 42
        }
      ],
      "source": [
        "# Ваш код\n",
        "!pip install gradio\n",
        "\n",
        "import gradio as gr\n",
        "\n",
        "# Интерфейс Gradio\n",
        "interface = gr.Interface(\n",
        "    fn=predict_price,\n",
        "    inputs=[\n",
        "        gr.Slider(label=\"Crime rate\", minimum=0, maximum=100, step=0.1, value=8.6),\n",
        "        gr.Slider(label=\"Land zoned\", minimum=0, maximum=100, step=0.1, value=23.3),\n",
        "        gr.Slider(label=\"Non-retail\", minimum=0, maximum=50, step=0.1, value=6.8),\n",
        "        gr.Slider(label=\"Charles River\", minimum=0, maximum=1, step=0.1, value=0.25),\n",
        "        gr.Slider(label=\"Nitric Oxides\", minimum=0, maximum=1, step=0.1, value=0.11),\n",
        "        gr.Slider(label=\"Average rooms\", minimum=1, maximum=10, step=0.1, value=0.7),\n",
        "        gr.Slider(label=\"Owner-occupied\", minimum=1, maximum=100, step=0.1, value=28.1),\n",
        "        gr.Slider(label=\"Distance center\", minimum=0, maximum=15, step=0.1, value=2.1),\n",
        "        gr.Slider(label=\"Radial highway\", minimum=1, maximum=50, step=0.1, value=8.7),\n",
        "        gr.Slider(label=\"tax-rate per 10k\", minimum=100, maximum=1000, step=0.1, value=168.5),\n",
        "        gr.Slider(label=\"Pupil-teacher rat.\", minimum=1, maximum=50, step=0.1, value=2.1),\n",
        "        gr.Slider(label=\"B\", minimum=0, maximum=1000, step=0.1, value=91.3),\n",
        "        gr.Slider(label=\"Lower status\", minimum=1, maximum=50, step=0.1, value=7.2),\n",
        "    ],\n",
        "    # Обновление при каждом изменении\n",
        "    live=True,\n",
        "    outputs=gr.Text(label=\"Predicted Price ($)\"),\n",
        ")\n",
        "\n",
        "# Запуск интерфейса\n",
        "interface.launch(debug=True, share=True)"
      ]
    },
    {
      "cell_type": "markdown",
      "metadata": {
        "id": "8UQpi9te2D4J"
      },
      "source": [
        "#### 2. Проверка обученной модели пользовательскими данными"
      ]
    },
    {
      "cell_type": "code",
      "execution_count": 20,
      "metadata": {
        "id": "9aohXWhb2Jjh"
      },
      "outputs": [],
      "source": [
        "# Ваш код"
      ]
    },
    {
      "cell_type": "markdown",
      "metadata": {
        "id": "DQQMXC8garr3"
      },
      "source": [
        "## Задание №2.Обучение модели ИНС для решения задачи классификации\n",
        "\n"
      ]
    },
    {
      "cell_type": "markdown",
      "metadata": {
        "id": "1OAwSdaG36Ip"
      },
      "source": [
        "Порядок работы:"
      ]
    },
    {
      "cell_type": "markdown",
      "metadata": {
        "id": "q8COT3YubK-X"
      },
      "source": [
        "* 1. Собрать датасет из изображений, соответствующих не менее, чем 3 классам объектов (в\n",
        "примере с пары были кошки, собаки и панды).\n"
      ]
    },
    {
      "cell_type": "markdown",
      "metadata": {
        "id": "YstDH7J2bM5F"
      },
      "source": [
        "- 2. Для каждого класса должно быть собрано не менее 1000 изображений. Количество\n",
        "изображений для каждого класса должно быть одинаковым.\n",
        "Готовые датасеты можно скачать отсюда: https://www.kaggle.com/\n"
      ]
    },
    {
      "cell_type": "markdown",
      "metadata": {
        "id": "9aTvc3A4bN_h"
      },
      "source": [
        "- 3. Обучить модель глубокой нейронной сети для решения задачи классификации\n",
        "изображений, по выбранным Вами классам. (В качестве примера приведён код с пары)\n",
        "В конечном итоге Вы должны сохранить обученную модель для классификации\n",
        "изображений, соответствующих тем классам, которые Вы выбрали, а затем воспользоваться этой моделью для предсказания классов на пользовательских изображениях.\n",
        "\n"
      ]
    },
    {
      "cell_type": "markdown",
      "metadata": {
        "id": "yKU34aHabUfp"
      },
      "source": [
        "> При выполнении заданий пробуйте использовать разные функции потерь,\n",
        "методы оптимизации, функции активации и метрики ошибок."
      ]
    },
    {
      "cell_type": "markdown",
      "metadata": {
        "id": "l8zEG_g8O-Ge"
      },
      "source": [
        "### 1. Устанавливаем зависимости:"
      ]
    },
    {
      "cell_type": "code",
      "execution_count": 21,
      "metadata": {
        "id": "sh6kN7IMO8de"
      },
      "outputs": [],
      "source": [
        "# Импортируем LabelBinarizer для преобразования текстовых меток в векторы\n",
        "# (например, \"кошка\" -> [1, 0, 0], \"собака\" -> [0, 1, 0], \"панда\" -> [0, 0, 1])\n",
        "from sklearn.preprocessing import LabelBinarizer\n",
        "\n",
        "# Импортируем train_test_split для разделения данных на обучающую и тестовую выборки\n",
        "from sklearn.model_selection import train_test_split\n",
        "\n",
        "# Импортируем classification_report для оценки качества классификации\n",
        "from sklearn.metrics import classification_report\n",
        "\n",
        "# Импортируем Sequential для создания последовательной модели нейронной сети\n",
        "from keras.models import Sequential\n",
        "\n",
        "# Импортируем Dense для создания плотных слоев нейронной сети\n",
        "from keras.layers import Dense\n",
        "\n",
        "# Импортируем SGD и Adam для оптимизации обучения нейронной сети\n",
        "from keras.optimizers import SGD, Adam\n",
        "\n",
        "# Импортируем paths из imutils для удобной работы с путями к изображениям\n",
        "from imutils import paths\n",
        "\n",
        "# Импортируем pyplot из matplotlib для визуализации данных\n",
        "import matplotlib.pyplot as plt\n",
        "\n",
        "# Импортируем numpy для работы с массивами данных\n",
        "import numpy as np\n",
        "\n",
        "# Импортируем random для генерации случайных чисел\n",
        "import random\n",
        "\n",
        "# Импортируем pickle для сериализации и десериализации данных\n",
        "import pickle\n",
        "\n",
        "# Импортируем cv2 для работы с изображениями\n",
        "import cv2\n",
        "\n",
        "# Импортируем os для работы с файловой системой\n",
        "import os\n",
        "\n",
        "# Импортируем cv2_imshow из google.colab.patches для отображения изображений в Colab\n",
        "from google.colab.patches import cv2_imshow"
      ]
    },
    {
      "cell_type": "markdown",
      "metadata": {
        "id": "aJextk3pO8Ko"
      },
      "source": [
        "### 2. Загружаем набор данных:"
      ]
    },
    {
      "cell_type": "code",
      "execution_count": 22,
      "metadata": {
        "id": "ZQOhPesK2-J8"
      },
      "outputs": [],
      "source": [
        "# Ваш код"
      ]
    },
    {
      "cell_type": "markdown",
      "metadata": {
        "id": "pX1km_kyV2Ka"
      },
      "source": [
        "### 3. Указываем путь к набору данных:"
      ]
    },
    {
      "cell_type": "code",
      "execution_count": 23,
      "metadata": {
        "id": "hAqtXKu62-bU"
      },
      "outputs": [],
      "source": [
        "# Ваш код"
      ]
    },
    {
      "cell_type": "markdown",
      "metadata": {
        "id": "sAYZPzKSVobq"
      },
      "source": [
        "### 4. Загружаем набор данных и формируем общую выборку:"
      ]
    },
    {
      "cell_type": "code",
      "execution_count": 24,
      "metadata": {
        "id": "1dqs5r-92-x7"
      },
      "outputs": [],
      "source": [
        "# Ваш код"
      ]
    },
    {
      "cell_type": "markdown",
      "metadata": {
        "id": "yeiILoUSXn4c"
      },
      "source": [
        "#### 4.1. Нормализуем данные:"
      ]
    },
    {
      "cell_type": "markdown",
      "metadata": {
        "id": "PceSnJBEZDPm"
      },
      "source": [
        "Масштабируем интенсивности пикселей в диапазон [0, 1], а также преобразуем данные в массивы NumPy для повышения производительности\n"
      ]
    },
    {
      "cell_type": "code",
      "execution_count": 25,
      "metadata": {
        "id": "wejqgr9U2_hf"
      },
      "outputs": [],
      "source": [
        "# Ваш код"
      ]
    },
    {
      "cell_type": "markdown",
      "metadata": {
        "id": "lREm4zIRaSsx"
      },
      "source": [
        "#### 4.2. Формируем обучающую и валидационную выборки:"
      ]
    },
    {
      "cell_type": "markdown",
      "metadata": {
        "id": "lwTSSQkPa9oI"
      },
      "source": [
        "Разделяем данные на обучающую и валидационную выборки, используя 75% данных для обучения и оставшиеся 25% для валидации"
      ]
    },
    {
      "cell_type": "code",
      "execution_count": 26,
      "metadata": {
        "id": "R23UTovQ3A7R"
      },
      "outputs": [],
      "source": [
        "# Ваш код"
      ]
    },
    {
      "cell_type": "markdown",
      "metadata": {
        "id": "Sz33nCuvc3Pk"
      },
      "source": [
        "### 5. Создание модели:"
      ]
    },
    {
      "cell_type": "markdown",
      "metadata": {
        "id": "r2mcOGxEc-uB"
      },
      "source": [
        "#### 5.1. Определим архитектуру модели с помощью Keras:"
      ]
    },
    {
      "cell_type": "code",
      "execution_count": 27,
      "metadata": {
        "id": "nj_bAWxv3B0B"
      },
      "outputs": [],
      "source": [
        "# Ваш код"
      ]
    },
    {
      "cell_type": "markdown",
      "metadata": {
        "id": "HHFTdcCkg1Wr"
      },
      "source": [
        "#### 5.2. Установим значение параметров скорости обучения и общего числа эпох\n"
      ]
    },
    {
      "cell_type": "code",
      "execution_count": 28,
      "metadata": {
        "id": "pzlpLmGm3CMU"
      },
      "outputs": [],
      "source": [
        "# Ваш код"
      ]
    },
    {
      "cell_type": "markdown",
      "metadata": {
        "id": "YaDdd2wphXLv"
      },
      "source": [
        "#### 5.3. Компилируем модель:"
      ]
    },
    {
      "cell_type": "code",
      "execution_count": 29,
      "metadata": {
        "id": "3mxDQXSc3Cc5"
      },
      "outputs": [],
      "source": [
        "# Ваш код"
      ]
    },
    {
      "cell_type": "markdown",
      "metadata": {
        "id": "EaJdxfw4hwjN"
      },
      "source": [
        "### 6. Обучение модели искусственной нейронной сети:"
      ]
    },
    {
      "cell_type": "markdown",
      "metadata": {
        "id": "KAzlK96zi0dy"
      },
      "source": [
        "#### 6.1. Добавим колбэки для сохранения лучшей модели по валидационной точности и остановки обучения, в случае, если модель перестала обучаться:"
      ]
    },
    {
      "cell_type": "code",
      "execution_count": 30,
      "metadata": {
        "id": "2d6HT9jU3C3E"
      },
      "outputs": [],
      "source": [
        "# Ваш код"
      ]
    },
    {
      "cell_type": "markdown",
      "metadata": {
        "id": "IgakM035jDPi"
      },
      "source": [
        "#### 6.2. Запустим процесс обучения модели:"
      ]
    },
    {
      "cell_type": "code",
      "execution_count": 31,
      "metadata": {
        "id": "YNloZiKH3DMV"
      },
      "outputs": [],
      "source": [
        "# Ваш код"
      ]
    },
    {
      "cell_type": "markdown",
      "metadata": {
        "id": "-dESH383noKz"
      },
      "source": [
        "#### 6.3. Загружаем лучшую модель:"
      ]
    },
    {
      "cell_type": "code",
      "execution_count": 32,
      "metadata": {
        "id": "_ZOMBkJk3Dgk"
      },
      "outputs": [],
      "source": [
        "# Ваш код"
      ]
    },
    {
      "cell_type": "markdown",
      "metadata": {
        "id": "CLv-TknOoQ8l"
      },
      "source": [
        "### 7. Оценка точности:"
      ]
    },
    {
      "cell_type": "markdown",
      "metadata": {
        "id": "J16c8i49o2Kq"
      },
      "source": [
        "#### 7.1. Выведем отчет классификации"
      ]
    },
    {
      "cell_type": "code",
      "execution_count": 33,
      "metadata": {
        "id": "cqmQz4mO3D5s"
      },
      "outputs": [],
      "source": [
        "# Ваш код"
      ]
    },
    {
      "cell_type": "markdown",
      "metadata": {
        "id": "YwbFnynjpKYS"
      },
      "source": [
        "#### 7.2. Выведем матрицу ошибок"
      ]
    },
    {
      "cell_type": "code",
      "execution_count": 34,
      "metadata": {
        "id": "77_vkdSk3EOd"
      },
      "outputs": [],
      "source": [
        "# Ваш код"
      ]
    },
    {
      "cell_type": "markdown",
      "metadata": {
        "id": "oqoaYCciugwi"
      },
      "source": [
        "#### 7.3. Отобразим график обучения"
      ]
    },
    {
      "cell_type": "code",
      "execution_count": 35,
      "metadata": {
        "id": "ALa4XomM3EmL"
      },
      "outputs": [],
      "source": [
        "# Ваш код"
      ]
    },
    {
      "cell_type": "markdown",
      "metadata": {
        "id": "RZfpw-xQu3Q8"
      },
      "source": [
        "### 8. Сохранение модели и меток классов:"
      ]
    },
    {
      "cell_type": "code",
      "execution_count": 36,
      "metadata": {
        "id": "mGlt9K8N3E7D"
      },
      "outputs": [],
      "source": [
        "# Ваш код"
      ]
    },
    {
      "cell_type": "markdown",
      "metadata": {
        "id": "YjyCuhw1aeti"
      },
      "source": [
        "### 9. Проверка обученной модели пользовательскими данными:"
      ]
    },
    {
      "cell_type": "markdown",
      "metadata": {
        "id": "yfUIW800wuyu"
      },
      "source": [
        "#### 9.1. Импортируем необходимые библиотеки"
      ]
    },
    {
      "cell_type": "code",
      "execution_count": 37,
      "metadata": {
        "id": "wk1qihbS3FR1"
      },
      "outputs": [],
      "source": [
        "# Ваш код"
      ]
    },
    {
      "cell_type": "markdown",
      "metadata": {
        "id": "PM2dadCBwzES"
      },
      "source": [
        "#### 9.2. Реализуем функцию для предобработки входных данных в той же последовательности, что и при формировании обучающей выборки:"
      ]
    },
    {
      "cell_type": "code",
      "execution_count": 38,
      "metadata": {
        "id": "P4KLc85A3FkU"
      },
      "outputs": [],
      "source": [
        "# Ваш код"
      ]
    },
    {
      "cell_type": "markdown",
      "metadata": {
        "id": "UXPI1dAIxvPz"
      },
      "source": [
        "#### 9.3. Определим функцию для осуществления прогноза по загруженной модели:"
      ]
    },
    {
      "cell_type": "code",
      "execution_count": 39,
      "metadata": {
        "id": "LO4Ty_t0anmv"
      },
      "outputs": [],
      "source": [
        "# Ваш код"
      ]
    },
    {
      "cell_type": "markdown",
      "metadata": {
        "id": "acXaOZ_z3dDq"
      },
      "source": [
        "### 10. Визуализируем интерфейс и произведем классификацию:"
      ]
    },
    {
      "cell_type": "code",
      "execution_count": 40,
      "metadata": {
        "id": "5wW8xYEB3dDr"
      },
      "outputs": [],
      "source": [
        "# Ваш код"
      ]
    }
  ],
  "metadata": {
    "colab": {
      "provenance": [],
      "gpuType": "T4",
      "include_colab_link": true
    },
    "kernelspec": {
      "display_name": "Python 3",
      "name": "python3"
    },
    "language_info": {
      "name": "python"
    },
    "accelerator": "GPU"
  },
  "nbformat": 4,
  "nbformat_minor": 0
}