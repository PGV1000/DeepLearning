{
  "cells": [
    {
      "cell_type": "markdown",
      "metadata": {
        "id": "view-in-github",
        "colab_type": "text"
      },
      "source": [
        "<a href=\"https://colab.research.google.com/github/PGV1000/DeepLearning/blob/main/%D0%9F%D1%80%D0%B0%D0%BA%D1%82%D0%B8%D1%87%D0%B5%D1%81%D0%BA%D0%BE%D0%B5%20%D0%B7%D0%B0%D0%BD%D1%8F%D1%82%D0%B8%D0%B5%20%E2%84%962/DeepNN_%D0%9F%D1%80%D0%B0%D0%BA%D1%82%D0%B8%D1%87%D0%B5%D1%81%D0%BA%D0%BE%D0%B5_%D0%B7%D0%B0%D0%BD%D1%8F%D1%82%D0%B8%D0%B5_%E2%84%962_%D0%9C%D0%B5%D0%B4%D0%B2%D0%B5%D0%B4%D0%B5%D0%B2_%D0%94_%D0%93.ipynb\" target=\"_parent\"><img src=\"https://colab.research.google.com/assets/colab-badge.svg\" alt=\"Open In Colab\"/></a>"
      ]
    },
    {
      "cell_type": "markdown",
      "metadata": {
        "id": "jVOridAYaoD_"
      },
      "source": [
        "# Практическая работа №2. Использование глубоких нейронных сетей для решения задач регрессии и классификации\n",
        "\n"
      ]
    },
    {
      "cell_type": "markdown",
      "metadata": {
        "id": "xfLS4L8wbf5M"
      },
      "source": [
        "**Ссылка на код с пары:**\n",
        "https://colab.research.google.com/drive/18EM8mrpURStkmbxWjZybWbWh23Si5b4A?usp=sharing\n"
      ]
    },
    {
      "cell_type": "markdown",
      "metadata": {
        "id": "ChzaEMuFavMw"
      },
      "source": [
        "## Задание №1. Обучение модели ИНС для решения задачи регрессии\n",
        "\n"
      ]
    },
    {
      "cell_type": "markdown",
      "metadata": {
        "id": "_AW7ypoN3qSi"
      },
      "source": [
        "Постройте глубокую нейронную сеть для предсказания цен на недвижимость в городе Бостон, используя датасет датасет boston_housing_price"
      ]
    },
    {
      "cell_type": "markdown",
      "metadata": {
        "id": "O1PDCog53nrg"
      },
      "source": [
        "[Описание датасета](https://www.hackersrealm.net/post/boston-house-price-prediction-analysis-using-python)"
      ]
    },
    {
      "cell_type": "markdown",
      "metadata": {
        "id": "QWLURy8z0u3k"
      },
      "source": [
        "#### 1.1. Загружаем исходные данные:"
      ]
    },
    {
      "cell_type": "code",
      "execution_count": null,
      "metadata": {
        "colab": {
          "base_uri": "https://localhost:8080/"
        },
        "id": "d5yFZZ1H_RVI",
        "outputId": "0fc15f41-be44-4573-bb41-166eb324fd5b"
      },
      "outputs": [
        {
          "output_type": "stream",
          "name": "stdout",
          "text": [
            "/usr/local/lib/python3.10/dist-packages/gdown/__main__.py:132: FutureWarning: Option `--id` was deprecated in version 4.3.1 and will be removed in 5.0. You don't need to pass it anymore to use a file ID.\n",
            "  warnings.warn(\n",
            "Downloading...\n",
            "From: https://drive.google.com/uc?id=10EGlLf-Jj0Izben6B9yDoIi8xPGDnkC0\n",
            "To: /content/kaggle.json\n",
            "100% 63.0/63.0 [00:00<00:00, 247kB/s]\n"
          ]
        }
      ],
      "source": [
        "import pandas as pd\n",
        "import numpy as np\n",
        "!pip install --upgrade -q gdown\n",
        "!gdown --id 10EGlLf-Jj0Izben6B9yDoIi8xPGDnkC0"
      ]
    },
    {
      "cell_type": "code",
      "execution_count": null,
      "metadata": {
        "id": "HlFbVWOqMNuA"
      },
      "outputs": [],
      "source": [
        "!pip install -q kaggle"
      ]
    },
    {
      "cell_type": "code",
      "execution_count": null,
      "metadata": {
        "id": "vqpgL_mlMSrl"
      },
      "outputs": [],
      "source": [
        "!mkdir -p ~/.kaggle\n",
        "!cp kaggle.json ~/.kaggle/"
      ]
    },
    {
      "cell_type": "code",
      "execution_count": null,
      "metadata": {
        "id": "FT4yiqJVMhGe",
        "colab": {
          "base_uri": "https://localhost:8080/"
        },
        "outputId": "383af2cf-8835-45d8-d15e-448d7ad118d9"
      },
      "outputs": [
        {
          "output_type": "stream",
          "name": "stdout",
          "text": [
            "Warning: Your Kaggle API key is readable by other users on this system! To fix this, you can run 'chmod 600 /root/.kaggle/kaggle.json'\n",
            "Downloading bostoncsv.zip to /content\n",
            "  0% 0.00/12.8k [00:00<?, ?B/s]\n",
            "100% 12.8k/12.8k [00:00<00:00, 19.5MB/s]\n"
          ]
        }
      ],
      "source": [
        "!kaggle datasets download -d puxama/bostoncsv"
      ]
    },
    {
      "cell_type": "code",
      "execution_count": null,
      "metadata": {
        "id": "nEKwt9aSMmD_",
        "colab": {
          "base_uri": "https://localhost:8080/"
        },
        "outputId": "01a2f27f-a5f2-4533-9e05-e08bd3551b8b"
      },
      "outputs": [
        {
          "output_type": "stream",
          "name": "stdout",
          "text": [
            "Archive:  bostoncsv.zip\n",
            "  inflating: Boston.csv              \n"
          ]
        }
      ],
      "source": [
        "!unzip -o bostoncsv.zip"
      ]
    },
    {
      "cell_type": "code",
      "execution_count": null,
      "metadata": {
        "colab": {
          "base_uri": "https://localhost:8080/",
          "height": 206
        },
        "id": "iuQ-bBlMM5OM",
        "outputId": "3cd48025-3647-427a-bdbc-4faf3df5e923"
      },
      "outputs": [
        {
          "output_type": "execute_result",
          "data": {
            "text/plain": [
              "      crim    zn  indus  chas    nox     rm   age     dis  rad  tax  ptratio  \\\n",
              "0  0.00632  18.0   2.31     0  0.538  6.575  65.2  4.0900    1  296     15.3   \n",
              "1  0.02731   0.0   7.07     0  0.469  6.421  78.9  4.9671    2  242     17.8   \n",
              "2  0.02729   0.0   7.07     0  0.469  7.185  61.1  4.9671    2  242     17.8   \n",
              "3  0.03237   0.0   2.18     0  0.458  6.998  45.8  6.0622    3  222     18.7   \n",
              "4  0.06905   0.0   2.18     0  0.458  7.147  54.2  6.0622    3  222     18.7   \n",
              "\n",
              "    black  lstat  \n",
              "0  396.90   4.98  \n",
              "1  396.90   9.14  \n",
              "2  392.83   4.03  \n",
              "3  394.63   2.94  \n",
              "4  396.90   5.33  "
            ],
            "text/html": [
              "\n",
              "  <div id=\"df-f8933a91-f723-488f-bfc9-1dff8d547efc\" class=\"colab-df-container\">\n",
              "    <div>\n",
              "<style scoped>\n",
              "    .dataframe tbody tr th:only-of-type {\n",
              "        vertical-align: middle;\n",
              "    }\n",
              "\n",
              "    .dataframe tbody tr th {\n",
              "        vertical-align: top;\n",
              "    }\n",
              "\n",
              "    .dataframe thead th {\n",
              "        text-align: right;\n",
              "    }\n",
              "</style>\n",
              "<table border=\"1\" class=\"dataframe\">\n",
              "  <thead>\n",
              "    <tr style=\"text-align: right;\">\n",
              "      <th></th>\n",
              "      <th>crim</th>\n",
              "      <th>zn</th>\n",
              "      <th>indus</th>\n",
              "      <th>chas</th>\n",
              "      <th>nox</th>\n",
              "      <th>rm</th>\n",
              "      <th>age</th>\n",
              "      <th>dis</th>\n",
              "      <th>rad</th>\n",
              "      <th>tax</th>\n",
              "      <th>ptratio</th>\n",
              "      <th>black</th>\n",
              "      <th>lstat</th>\n",
              "    </tr>\n",
              "  </thead>\n",
              "  <tbody>\n",
              "    <tr>\n",
              "      <th>0</th>\n",
              "      <td>0.00632</td>\n",
              "      <td>18.0</td>\n",
              "      <td>2.31</td>\n",
              "      <td>0</td>\n",
              "      <td>0.538</td>\n",
              "      <td>6.575</td>\n",
              "      <td>65.2</td>\n",
              "      <td>4.0900</td>\n",
              "      <td>1</td>\n",
              "      <td>296</td>\n",
              "      <td>15.3</td>\n",
              "      <td>396.90</td>\n",
              "      <td>4.98</td>\n",
              "    </tr>\n",
              "    <tr>\n",
              "      <th>1</th>\n",
              "      <td>0.02731</td>\n",
              "      <td>0.0</td>\n",
              "      <td>7.07</td>\n",
              "      <td>0</td>\n",
              "      <td>0.469</td>\n",
              "      <td>6.421</td>\n",
              "      <td>78.9</td>\n",
              "      <td>4.9671</td>\n",
              "      <td>2</td>\n",
              "      <td>242</td>\n",
              "      <td>17.8</td>\n",
              "      <td>396.90</td>\n",
              "      <td>9.14</td>\n",
              "    </tr>\n",
              "    <tr>\n",
              "      <th>2</th>\n",
              "      <td>0.02729</td>\n",
              "      <td>0.0</td>\n",
              "      <td>7.07</td>\n",
              "      <td>0</td>\n",
              "      <td>0.469</td>\n",
              "      <td>7.185</td>\n",
              "      <td>61.1</td>\n",
              "      <td>4.9671</td>\n",
              "      <td>2</td>\n",
              "      <td>242</td>\n",
              "      <td>17.8</td>\n",
              "      <td>392.83</td>\n",
              "      <td>4.03</td>\n",
              "    </tr>\n",
              "    <tr>\n",
              "      <th>3</th>\n",
              "      <td>0.03237</td>\n",
              "      <td>0.0</td>\n",
              "      <td>2.18</td>\n",
              "      <td>0</td>\n",
              "      <td>0.458</td>\n",
              "      <td>6.998</td>\n",
              "      <td>45.8</td>\n",
              "      <td>6.0622</td>\n",
              "      <td>3</td>\n",
              "      <td>222</td>\n",
              "      <td>18.7</td>\n",
              "      <td>394.63</td>\n",
              "      <td>2.94</td>\n",
              "    </tr>\n",
              "    <tr>\n",
              "      <th>4</th>\n",
              "      <td>0.06905</td>\n",
              "      <td>0.0</td>\n",
              "      <td>2.18</td>\n",
              "      <td>0</td>\n",
              "      <td>0.458</td>\n",
              "      <td>7.147</td>\n",
              "      <td>54.2</td>\n",
              "      <td>6.0622</td>\n",
              "      <td>3</td>\n",
              "      <td>222</td>\n",
              "      <td>18.7</td>\n",
              "      <td>396.90</td>\n",
              "      <td>5.33</td>\n",
              "    </tr>\n",
              "  </tbody>\n",
              "</table>\n",
              "</div>\n",
              "    <div class=\"colab-df-buttons\">\n",
              "\n",
              "  <div class=\"colab-df-container\">\n",
              "    <button class=\"colab-df-convert\" onclick=\"convertToInteractive('df-f8933a91-f723-488f-bfc9-1dff8d547efc')\"\n",
              "            title=\"Convert this dataframe to an interactive table.\"\n",
              "            style=\"display:none;\">\n",
              "\n",
              "  <svg xmlns=\"http://www.w3.org/2000/svg\" height=\"24px\" viewBox=\"0 -960 960 960\">\n",
              "    <path d=\"M120-120v-720h720v720H120Zm60-500h600v-160H180v160Zm220 220h160v-160H400v160Zm0 220h160v-160H400v160ZM180-400h160v-160H180v160Zm440 0h160v-160H620v160ZM180-180h160v-160H180v160Zm440 0h160v-160H620v160Z\"/>\n",
              "  </svg>\n",
              "    </button>\n",
              "\n",
              "  <style>\n",
              "    .colab-df-container {\n",
              "      display:flex;\n",
              "      gap: 12px;\n",
              "    }\n",
              "\n",
              "    .colab-df-convert {\n",
              "      background-color: #E8F0FE;\n",
              "      border: none;\n",
              "      border-radius: 50%;\n",
              "      cursor: pointer;\n",
              "      display: none;\n",
              "      fill: #1967D2;\n",
              "      height: 32px;\n",
              "      padding: 0 0 0 0;\n",
              "      width: 32px;\n",
              "    }\n",
              "\n",
              "    .colab-df-convert:hover {\n",
              "      background-color: #E2EBFA;\n",
              "      box-shadow: 0px 1px 2px rgba(60, 64, 67, 0.3), 0px 1px 3px 1px rgba(60, 64, 67, 0.15);\n",
              "      fill: #174EA6;\n",
              "    }\n",
              "\n",
              "    .colab-df-buttons div {\n",
              "      margin-bottom: 4px;\n",
              "    }\n",
              "\n",
              "    [theme=dark] .colab-df-convert {\n",
              "      background-color: #3B4455;\n",
              "      fill: #D2E3FC;\n",
              "    }\n",
              "\n",
              "    [theme=dark] .colab-df-convert:hover {\n",
              "      background-color: #434B5C;\n",
              "      box-shadow: 0px 1px 3px 1px rgba(0, 0, 0, 0.15);\n",
              "      filter: drop-shadow(0px 1px 2px rgba(0, 0, 0, 0.3));\n",
              "      fill: #FFFFFF;\n",
              "    }\n",
              "  </style>\n",
              "\n",
              "    <script>\n",
              "      const buttonEl =\n",
              "        document.querySelector('#df-f8933a91-f723-488f-bfc9-1dff8d547efc button.colab-df-convert');\n",
              "      buttonEl.style.display =\n",
              "        google.colab.kernel.accessAllowed ? 'block' : 'none';\n",
              "\n",
              "      async function convertToInteractive(key) {\n",
              "        const element = document.querySelector('#df-f8933a91-f723-488f-bfc9-1dff8d547efc');\n",
              "        const dataTable =\n",
              "          await google.colab.kernel.invokeFunction('convertToInteractive',\n",
              "                                                    [key], {});\n",
              "        if (!dataTable) return;\n",
              "\n",
              "        const docLinkHtml = 'Like what you see? Visit the ' +\n",
              "          '<a target=\"_blank\" href=https://colab.research.google.com/notebooks/data_table.ipynb>data table notebook</a>'\n",
              "          + ' to learn more about interactive tables.';\n",
              "        element.innerHTML = '';\n",
              "        dataTable['output_type'] = 'display_data';\n",
              "        await google.colab.output.renderOutput(dataTable, element);\n",
              "        const docLink = document.createElement('div');\n",
              "        docLink.innerHTML = docLinkHtml;\n",
              "        element.appendChild(docLink);\n",
              "      }\n",
              "    </script>\n",
              "  </div>\n",
              "\n",
              "\n",
              "<div id=\"df-0a928abd-6a9a-49c4-a968-1e2cd102c280\">\n",
              "  <button class=\"colab-df-quickchart\" onclick=\"quickchart('df-0a928abd-6a9a-49c4-a968-1e2cd102c280')\"\n",
              "            title=\"Suggest charts\"\n",
              "            style=\"display:none;\">\n",
              "\n",
              "<svg xmlns=\"http://www.w3.org/2000/svg\" height=\"24px\"viewBox=\"0 0 24 24\"\n",
              "     width=\"24px\">\n",
              "    <g>\n",
              "        <path d=\"M19 3H5c-1.1 0-2 .9-2 2v14c0 1.1.9 2 2 2h14c1.1 0 2-.9 2-2V5c0-1.1-.9-2-2-2zM9 17H7v-7h2v7zm4 0h-2V7h2v10zm4 0h-2v-4h2v4z\"/>\n",
              "    </g>\n",
              "</svg>\n",
              "  </button>\n",
              "\n",
              "<style>\n",
              "  .colab-df-quickchart {\n",
              "      --bg-color: #E8F0FE;\n",
              "      --fill-color: #1967D2;\n",
              "      --hover-bg-color: #E2EBFA;\n",
              "      --hover-fill-color: #174EA6;\n",
              "      --disabled-fill-color: #AAA;\n",
              "      --disabled-bg-color: #DDD;\n",
              "  }\n",
              "\n",
              "  [theme=dark] .colab-df-quickchart {\n",
              "      --bg-color: #3B4455;\n",
              "      --fill-color: #D2E3FC;\n",
              "      --hover-bg-color: #434B5C;\n",
              "      --hover-fill-color: #FFFFFF;\n",
              "      --disabled-bg-color: #3B4455;\n",
              "      --disabled-fill-color: #666;\n",
              "  }\n",
              "\n",
              "  .colab-df-quickchart {\n",
              "    background-color: var(--bg-color);\n",
              "    border: none;\n",
              "    border-radius: 50%;\n",
              "    cursor: pointer;\n",
              "    display: none;\n",
              "    fill: var(--fill-color);\n",
              "    height: 32px;\n",
              "    padding: 0;\n",
              "    width: 32px;\n",
              "  }\n",
              "\n",
              "  .colab-df-quickchart:hover {\n",
              "    background-color: var(--hover-bg-color);\n",
              "    box-shadow: 0 1px 2px rgba(60, 64, 67, 0.3), 0 1px 3px 1px rgba(60, 64, 67, 0.15);\n",
              "    fill: var(--button-hover-fill-color);\n",
              "  }\n",
              "\n",
              "  .colab-df-quickchart-complete:disabled,\n",
              "  .colab-df-quickchart-complete:disabled:hover {\n",
              "    background-color: var(--disabled-bg-color);\n",
              "    fill: var(--disabled-fill-color);\n",
              "    box-shadow: none;\n",
              "  }\n",
              "\n",
              "  .colab-df-spinner {\n",
              "    border: 2px solid var(--fill-color);\n",
              "    border-color: transparent;\n",
              "    border-bottom-color: var(--fill-color);\n",
              "    animation:\n",
              "      spin 1s steps(1) infinite;\n",
              "  }\n",
              "\n",
              "  @keyframes spin {\n",
              "    0% {\n",
              "      border-color: transparent;\n",
              "      border-bottom-color: var(--fill-color);\n",
              "      border-left-color: var(--fill-color);\n",
              "    }\n",
              "    20% {\n",
              "      border-color: transparent;\n",
              "      border-left-color: var(--fill-color);\n",
              "      border-top-color: var(--fill-color);\n",
              "    }\n",
              "    30% {\n",
              "      border-color: transparent;\n",
              "      border-left-color: var(--fill-color);\n",
              "      border-top-color: var(--fill-color);\n",
              "      border-right-color: var(--fill-color);\n",
              "    }\n",
              "    40% {\n",
              "      border-color: transparent;\n",
              "      border-right-color: var(--fill-color);\n",
              "      border-top-color: var(--fill-color);\n",
              "    }\n",
              "    60% {\n",
              "      border-color: transparent;\n",
              "      border-right-color: var(--fill-color);\n",
              "    }\n",
              "    80% {\n",
              "      border-color: transparent;\n",
              "      border-right-color: var(--fill-color);\n",
              "      border-bottom-color: var(--fill-color);\n",
              "    }\n",
              "    90% {\n",
              "      border-color: transparent;\n",
              "      border-bottom-color: var(--fill-color);\n",
              "    }\n",
              "  }\n",
              "</style>\n",
              "\n",
              "  <script>\n",
              "    async function quickchart(key) {\n",
              "      const quickchartButtonEl =\n",
              "        document.querySelector('#' + key + ' button');\n",
              "      quickchartButtonEl.disabled = true;  // To prevent multiple clicks.\n",
              "      quickchartButtonEl.classList.add('colab-df-spinner');\n",
              "      try {\n",
              "        const charts = await google.colab.kernel.invokeFunction(\n",
              "            'suggestCharts', [key], {});\n",
              "      } catch (error) {\n",
              "        console.error('Error during call to suggestCharts:', error);\n",
              "      }\n",
              "      quickchartButtonEl.classList.remove('colab-df-spinner');\n",
              "      quickchartButtonEl.classList.add('colab-df-quickchart-complete');\n",
              "    }\n",
              "    (() => {\n",
              "      let quickchartButtonEl =\n",
              "        document.querySelector('#df-0a928abd-6a9a-49c4-a968-1e2cd102c280 button');\n",
              "      quickchartButtonEl.style.display =\n",
              "        google.colab.kernel.accessAllowed ? 'block' : 'none';\n",
              "    })();\n",
              "  </script>\n",
              "</div>\n",
              "    </div>\n",
              "  </div>\n"
            ],
            "application/vnd.google.colaboratory.intrinsic+json": {
              "type": "dataframe",
              "variable_name": "x",
              "summary": "{\n  \"name\": \"x\",\n  \"rows\": 506,\n  \"fields\": [\n    {\n      \"column\": \"crim\",\n      \"properties\": {\n        \"dtype\": \"number\",\n        \"std\": 8.60154510533249,\n        \"min\": 0.00632,\n        \"max\": 88.9762,\n        \"num_unique_values\": 504,\n        \"samples\": [\n          0.09178,\n          0.05644,\n          0.10574\n        ],\n        \"semantic_type\": \"\",\n        \"description\": \"\"\n      }\n    },\n    {\n      \"column\": \"zn\",\n      \"properties\": {\n        \"dtype\": \"number\",\n        \"std\": 23.32245299451514,\n        \"min\": 0.0,\n        \"max\": 100.0,\n        \"num_unique_values\": 26,\n        \"samples\": [\n          25.0,\n          30.0,\n          18.0\n        ],\n        \"semantic_type\": \"\",\n        \"description\": \"\"\n      }\n    },\n    {\n      \"column\": \"indus\",\n      \"properties\": {\n        \"dtype\": \"number\",\n        \"std\": 6.860352940897585,\n        \"min\": 0.46,\n        \"max\": 27.74,\n        \"num_unique_values\": 76,\n        \"samples\": [\n          8.14,\n          1.47,\n          1.22\n        ],\n        \"semantic_type\": \"\",\n        \"description\": \"\"\n      }\n    },\n    {\n      \"column\": \"chas\",\n      \"properties\": {\n        \"dtype\": \"number\",\n        \"std\": 0,\n        \"min\": 0,\n        \"max\": 1,\n        \"num_unique_values\": 2,\n        \"samples\": [\n          1,\n          0\n        ],\n        \"semantic_type\": \"\",\n        \"description\": \"\"\n      }\n    },\n    {\n      \"column\": \"nox\",\n      \"properties\": {\n        \"dtype\": \"number\",\n        \"std\": 0.11587767566755595,\n        \"min\": 0.385,\n        \"max\": 0.871,\n        \"num_unique_values\": 81,\n        \"samples\": [\n          0.401,\n          0.538\n        ],\n        \"semantic_type\": \"\",\n        \"description\": \"\"\n      }\n    },\n    {\n      \"column\": \"rm\",\n      \"properties\": {\n        \"dtype\": \"number\",\n        \"std\": 0.7026171434153233,\n        \"min\": 3.561,\n        \"max\": 8.78,\n        \"num_unique_values\": 446,\n        \"samples\": [\n          6.849,\n          4.88\n        ],\n        \"semantic_type\": \"\",\n        \"description\": \"\"\n      }\n    },\n    {\n      \"column\": \"age\",\n      \"properties\": {\n        \"dtype\": \"number\",\n        \"std\": 28.148861406903617,\n        \"min\": 2.9,\n        \"max\": 100.0,\n        \"num_unique_values\": 356,\n        \"samples\": [\n          51.8,\n          33.8\n        ],\n        \"semantic_type\": \"\",\n        \"description\": \"\"\n      }\n    },\n    {\n      \"column\": \"dis\",\n      \"properties\": {\n        \"dtype\": \"number\",\n        \"std\": 2.105710126627611,\n        \"min\": 1.1296,\n        \"max\": 12.1265,\n        \"num_unique_values\": 412,\n        \"samples\": [\n          2.2955,\n          4.2515\n        ],\n        \"semantic_type\": \"\",\n        \"description\": \"\"\n      }\n    },\n    {\n      \"column\": \"rad\",\n      \"properties\": {\n        \"dtype\": \"number\",\n        \"std\": 8,\n        \"min\": 1,\n        \"max\": 24,\n        \"num_unique_values\": 9,\n        \"samples\": [\n          7,\n          2\n        ],\n        \"semantic_type\": \"\",\n        \"description\": \"\"\n      }\n    },\n    {\n      \"column\": \"tax\",\n      \"properties\": {\n        \"dtype\": \"number\",\n        \"std\": 168,\n        \"min\": 187,\n        \"max\": 711,\n        \"num_unique_values\": 66,\n        \"samples\": [\n          370,\n          666\n        ],\n        \"semantic_type\": \"\",\n        \"description\": \"\"\n      }\n    },\n    {\n      \"column\": \"ptratio\",\n      \"properties\": {\n        \"dtype\": \"number\",\n        \"std\": 2.1649455237144406,\n        \"min\": 12.6,\n        \"max\": 22.0,\n        \"num_unique_values\": 46,\n        \"samples\": [\n          19.6,\n          15.6\n        ],\n        \"semantic_type\": \"\",\n        \"description\": \"\"\n      }\n    },\n    {\n      \"column\": \"black\",\n      \"properties\": {\n        \"dtype\": \"number\",\n        \"std\": 91.29486438415783,\n        \"min\": 0.32,\n        \"max\": 396.9,\n        \"num_unique_values\": 357,\n        \"samples\": [\n          396.24,\n          395.11\n        ],\n        \"semantic_type\": \"\",\n        \"description\": \"\"\n      }\n    },\n    {\n      \"column\": \"lstat\",\n      \"properties\": {\n        \"dtype\": \"number\",\n        \"std\": 7.141061511348571,\n        \"min\": 1.73,\n        \"max\": 37.97,\n        \"num_unique_values\": 455,\n        \"samples\": [\n          6.15,\n          4.32\n        ],\n        \"semantic_type\": \"\",\n        \"description\": \"\"\n      }\n    }\n  ]\n}"
            }
          },
          "metadata": {},
          "execution_count": 6
        }
      ],
      "source": [
        "df = pd.read_csv(\"Boston.csv\")\n",
        "x = df.drop(['Unnamed: 0', 'medv'], axis=1)\n",
        "y = df['medv']\n",
        "\n",
        "x.head()"
      ]
    },
    {
      "cell_type": "code",
      "source": [
        "print(x.describe())"
      ],
      "metadata": {
        "id": "HdO2mmjz5cvT",
        "colab": {
          "base_uri": "https://localhost:8080/"
        },
        "outputId": "4c93ea9d-2808-4ecf-ffde-ef9a1adcb88c"
      },
      "execution_count": null,
      "outputs": [
        {
          "output_type": "stream",
          "name": "stdout",
          "text": [
            "             crim          zn       indus        chas         nox          rm  \\\n",
            "count  506.000000  506.000000  506.000000  506.000000  506.000000  506.000000   \n",
            "mean     3.613524   11.363636   11.136779    0.069170    0.554695    6.284634   \n",
            "std      8.601545   23.322453    6.860353    0.253994    0.115878    0.702617   \n",
            "min      0.006320    0.000000    0.460000    0.000000    0.385000    3.561000   \n",
            "25%      0.082045    0.000000    5.190000    0.000000    0.449000    5.885500   \n",
            "50%      0.256510    0.000000    9.690000    0.000000    0.538000    6.208500   \n",
            "75%      3.677083   12.500000   18.100000    0.000000    0.624000    6.623500   \n",
            "max     88.976200  100.000000   27.740000    1.000000    0.871000    8.780000   \n",
            "\n",
            "              age         dis         rad         tax     ptratio       black  \\\n",
            "count  506.000000  506.000000  506.000000  506.000000  506.000000  506.000000   \n",
            "mean    68.574901    3.795043    9.549407  408.237154   18.455534  356.674032   \n",
            "std     28.148861    2.105710    8.707259  168.537116    2.164946   91.294864   \n",
            "min      2.900000    1.129600    1.000000  187.000000   12.600000    0.320000   \n",
            "25%     45.025000    2.100175    4.000000  279.000000   17.400000  375.377500   \n",
            "50%     77.500000    3.207450    5.000000  330.000000   19.050000  391.440000   \n",
            "75%     94.075000    5.188425   24.000000  666.000000   20.200000  396.225000   \n",
            "max    100.000000   12.126500   24.000000  711.000000   22.000000  396.900000   \n",
            "\n",
            "            lstat  \n",
            "count  506.000000  \n",
            "mean    12.653063  \n",
            "std      7.141062  \n",
            "min      1.730000  \n",
            "25%      6.950000  \n",
            "50%     11.360000  \n",
            "75%     16.955000  \n",
            "max     37.970000  \n"
          ]
        }
      ]
    },
    {
      "cell_type": "code",
      "execution_count": null,
      "metadata": {
        "colab": {
          "base_uri": "https://localhost:8080/"
        },
        "id": "EDky_2FAOCui",
        "outputId": "91fc47f2-f569-468e-b61c-1aa1e34f229f"
      },
      "outputs": [
        {
          "output_type": "execute_result",
          "data": {
            "text/plain": [
              "((404, 13), (404,))"
            ]
          },
          "metadata": {},
          "execution_count": 8
        }
      ],
      "source": [
        "from sklearn.model_selection import train_test_split\n",
        "\n",
        "x_train, x_test, y_train, y_test = train_test_split(x, y, test_size=0.2, random_state=1)\n",
        "x_train.shape, y_train.shape"
      ]
    },
    {
      "cell_type": "markdown",
      "metadata": {
        "id": "815ut8JJTIM7"
      },
      "source": [
        "#### 1.2. Проектируем архитектуру для этой задачи"
      ]
    },
    {
      "cell_type": "code",
      "execution_count": null,
      "metadata": {
        "id": "gKm-yRHhDCLi"
      },
      "outputs": [],
      "source": [
        "from sklearn.preprocessing import MinMaxScaler\n",
        "\n",
        "scaler = MinMaxScaler()\n",
        "\n",
        "x_train_n = scaler.fit_transform(x_train)\n",
        "x_test_n = scaler.transform(x_test)"
      ]
    },
    {
      "cell_type": "code",
      "source": [
        "# Сохранение модели scaler\n",
        "import pickle\n",
        "\n",
        "with open(\"scaler.pkl\", \"wb\") as f:\n",
        "    pickle.dump(scaler, f)"
      ],
      "metadata": {
        "id": "Rf7w7a5O4Jxb"
      },
      "execution_count": null,
      "outputs": []
    },
    {
      "cell_type": "code",
      "execution_count": null,
      "metadata": {
        "colab": {
          "base_uri": "https://localhost:8080/"
        },
        "id": "alrRyjbs1c8s",
        "outputId": "45f7b4c3-4551-4054-a246-db7d9b2b7e3d"
      },
      "outputs": [
        {
          "output_type": "stream",
          "name": "stdout",
          "text": [
            "Model: \"sequential\"\n",
            "_________________________________________________________________\n",
            " Layer (type)                Output Shape              Param #   \n",
            "=================================================================\n",
            " dense (Dense)               (None, 26)                364       \n",
            "                                                                 \n",
            " dense_1 (Dense)             (None, 13)                351       \n",
            "                                                                 \n",
            " dense_2 (Dense)             (None, 1)                 14        \n",
            "                                                                 \n",
            "=================================================================\n",
            "Total params: 729 (2.85 KB)\n",
            "Trainable params: 729 (2.85 KB)\n",
            "Non-trainable params: 0 (0.00 Byte)\n",
            "_________________________________________________________________\n"
          ]
        }
      ],
      "source": [
        "# Ваш код\n",
        "\n",
        "from keras.layers import Dense\n",
        "from keras.models import Sequential\n",
        "from keras.optimizers import SGD, Adam\n",
        "\n",
        "\n",
        "model = Sequential([\n",
        "    Dense(26, input_shape=(13,), activation='relu'),\n",
        "    Dense(13, input_shape=(), activation='relu'),\n",
        "    Dense(1, activation='relu')\n",
        "])\n",
        "\n",
        "model.summary()"
      ]
    },
    {
      "cell_type": "markdown",
      "metadata": {
        "id": "F9E1W4yCT0YC"
      },
      "source": [
        "#### 1.3. Компилируем модель ИНС\n",
        "\n",
        "Подберите нужную функцию потерь и метрику."
      ]
    },
    {
      "cell_type": "code",
      "execution_count": null,
      "metadata": {
        "id": "Fu8VHdqV1gqy"
      },
      "outputs": [],
      "source": [
        "# Ваш код\n",
        "SPEED = 0.1\n",
        "EPOCHS = 40\n",
        "model.compile(optimizer=Adam(learning_rate=SPEED), loss='mse', metrics='mae')"
      ]
    },
    {
      "cell_type": "markdown",
      "metadata": {
        "id": "ebac-dNAUBtX"
      },
      "source": [
        "#### 1.4. Обучаем модель ИНС"
      ]
    },
    {
      "cell_type": "code",
      "execution_count": null,
      "metadata": {
        "colab": {
          "base_uri": "https://localhost:8080/"
        },
        "id": "LcVz6t601hFI",
        "outputId": "20040c13-41b2-4eb7-9957-40d7d7c7697e"
      },
      "outputs": [
        {
          "output_type": "stream",
          "name": "stdout",
          "text": [
            "Epoch 1/40\n",
            "13/13 [==============================] - 2s 47ms/step - loss: 239.6591 - mae: 11.9767 - val_loss: 89.2740 - val_mae: 7.5769\n",
            "Epoch 2/40\n",
            "13/13 [==============================] - 0s 11ms/step - loss: 59.4576 - mae: 5.3423 - val_loss: 64.0724 - val_mae: 5.5434\n",
            "Epoch 3/40\n",
            "13/13 [==============================] - 0s 13ms/step - loss: 48.1063 - mae: 4.7969 - val_loss: 58.2305 - val_mae: 4.8558\n",
            "Epoch 4/40\n",
            "13/13 [==============================] - 0s 13ms/step - loss: 40.1809 - mae: 4.3548 - val_loss: 37.2395 - val_mae: 4.9515\n",
            "Epoch 5/40\n",
            "13/13 [==============================] - 0s 13ms/step - loss: 31.3354 - mae: 3.9517 - val_loss: 25.4176 - val_mae: 3.4188\n",
            "Epoch 6/40\n",
            "13/13 [==============================] - 0s 11ms/step - loss: 23.1346 - mae: 3.3006 - val_loss: 23.6965 - val_mae: 3.8125\n",
            "Epoch 7/40\n",
            "13/13 [==============================] - 0s 12ms/step - loss: 22.0445 - mae: 3.2093 - val_loss: 17.2939 - val_mae: 2.9792\n",
            "Epoch 8/40\n",
            "13/13 [==============================] - 0s 11ms/step - loss: 21.6472 - mae: 3.0550 - val_loss: 16.4410 - val_mae: 3.1694\n",
            "Epoch 9/40\n",
            "13/13 [==============================] - 0s 8ms/step - loss: 19.1836 - mae: 2.9534 - val_loss: 15.5407 - val_mae: 2.8500\n",
            "Epoch 10/40\n",
            "13/13 [==============================] - 0s 16ms/step - loss: 22.5160 - mae: 3.2995 - val_loss: 20.3595 - val_mae: 3.6477\n",
            "Epoch 11/40\n",
            "13/13 [==============================] - 0s 16ms/step - loss: 21.4800 - mae: 3.1204 - val_loss: 14.7592 - val_mae: 2.8626\n",
            "Epoch 12/40\n",
            "13/13 [==============================] - 0s 10ms/step - loss: 19.3909 - mae: 2.9601 - val_loss: 25.1697 - val_mae: 3.8058\n",
            "Epoch 13/40\n",
            "13/13 [==============================] - 0s 16ms/step - loss: 22.2732 - mae: 3.3997 - val_loss: 28.2081 - val_mae: 4.5947\n",
            "Epoch 14/40\n",
            "13/13 [==============================] - 0s 23ms/step - loss: 28.5540 - mae: 3.8388 - val_loss: 20.1202 - val_mae: 3.1232\n",
            "Epoch 15/40\n",
            "13/13 [==============================] - 0s 18ms/step - loss: 22.4068 - mae: 3.2988 - val_loss: 18.1057 - val_mae: 3.4211\n",
            "Epoch 16/40\n",
            "13/13 [==============================] - 0s 27ms/step - loss: 20.9067 - mae: 3.1838 - val_loss: 15.3780 - val_mae: 2.8090\n",
            "Epoch 17/40\n",
            "13/13 [==============================] - 0s 19ms/step - loss: 20.2229 - mae: 3.2441 - val_loss: 11.0043 - val_mae: 2.4285\n",
            "Epoch 18/40\n",
            "13/13 [==============================] - 0s 21ms/step - loss: 20.4790 - mae: 3.1470 - val_loss: 12.5017 - val_mae: 2.6111\n",
            "Epoch 19/40\n",
            "13/13 [==============================] - 0s 22ms/step - loss: 16.6317 - mae: 2.7519 - val_loss: 13.7512 - val_mae: 2.9258\n",
            "Epoch 20/40\n",
            "13/13 [==============================] - 0s 19ms/step - loss: 22.6010 - mae: 3.2876 - val_loss: 11.2705 - val_mae: 2.4817\n",
            "Epoch 21/40\n",
            "13/13 [==============================] - 0s 16ms/step - loss: 17.3589 - mae: 2.7521 - val_loss: 9.8101 - val_mae: 2.2919\n",
            "Epoch 22/40\n",
            "13/13 [==============================] - 0s 18ms/step - loss: 14.8559 - mae: 2.4869 - val_loss: 10.3374 - val_mae: 2.3819\n",
            "Epoch 23/40\n",
            "13/13 [==============================] - 0s 18ms/step - loss: 15.4917 - mae: 2.6526 - val_loss: 10.5766 - val_mae: 2.4766\n",
            "Epoch 24/40\n",
            "13/13 [==============================] - 0s 23ms/step - loss: 15.4966 - mae: 2.6744 - val_loss: 11.5954 - val_mae: 2.5196\n",
            "Epoch 25/40\n",
            "13/13 [==============================] - 0s 19ms/step - loss: 15.6325 - mae: 2.5585 - val_loss: 10.4360 - val_mae: 2.5681\n",
            "Epoch 26/40\n",
            "13/13 [==============================] - 0s 19ms/step - loss: 13.4605 - mae: 2.4198 - val_loss: 8.9937 - val_mae: 2.2720\n",
            "Epoch 27/40\n",
            "13/13 [==============================] - 0s 15ms/step - loss: 15.0417 - mae: 2.7133 - val_loss: 9.3902 - val_mae: 2.2800\n",
            "Epoch 28/40\n",
            "13/13 [==============================] - 0s 12ms/step - loss: 13.8829 - mae: 2.5596 - val_loss: 11.8650 - val_mae: 2.5965\n",
            "Epoch 29/40\n",
            "13/13 [==============================] - 0s 9ms/step - loss: 16.2393 - mae: 2.7358 - val_loss: 9.4886 - val_mae: 2.3508\n",
            "Epoch 30/40\n",
            "13/13 [==============================] - 0s 8ms/step - loss: 13.6418 - mae: 2.5328 - val_loss: 12.6252 - val_mae: 2.5117\n",
            "Epoch 31/40\n",
            "13/13 [==============================] - 0s 8ms/step - loss: 15.3037 - mae: 2.6521 - val_loss: 9.5576 - val_mae: 2.3626\n",
            "Epoch 32/40\n",
            "13/13 [==============================] - 0s 21ms/step - loss: 14.0797 - mae: 2.5782 - val_loss: 10.4811 - val_mae: 2.4114\n",
            "Epoch 33/40\n",
            "13/13 [==============================] - 0s 13ms/step - loss: 12.7808 - mae: 2.4743 - val_loss: 12.6278 - val_mae: 2.7299\n",
            "Epoch 34/40\n",
            "13/13 [==============================] - 0s 7ms/step - loss: 13.5275 - mae: 2.6277 - val_loss: 11.8744 - val_mae: 2.6808\n",
            "Epoch 35/40\n",
            "13/13 [==============================] - 0s 12ms/step - loss: 13.4310 - mae: 2.5789 - val_loss: 9.3923 - val_mae: 2.3270\n",
            "Epoch 36/40\n",
            "13/13 [==============================] - 0s 11ms/step - loss: 12.5194 - mae: 2.4598 - val_loss: 11.3726 - val_mae: 2.6350\n",
            "Epoch 37/40\n",
            "13/13 [==============================] - 0s 10ms/step - loss: 12.2679 - mae: 2.3521 - val_loss: 9.3212 - val_mae: 2.3352\n",
            "Epoch 38/40\n",
            "13/13 [==============================] - 0s 12ms/step - loss: 11.3992 - mae: 2.3271 - val_loss: 10.0756 - val_mae: 2.3966\n",
            "Epoch 39/40\n",
            "13/13 [==============================] - 0s 13ms/step - loss: 11.1255 - mae: 2.2383 - val_loss: 13.0136 - val_mae: 2.7455\n",
            "Epoch 40/40\n",
            "13/13 [==============================] - 0s 10ms/step - loss: 11.7513 - mae: 2.3561 - val_loss: 9.4834 - val_mae: 2.4837\n"
          ]
        }
      ],
      "source": [
        "history = model.fit(x_train_n, y_train, validation_data=(x_test_n, y_test), epochs=EPOCHS)"
      ]
    },
    {
      "cell_type": "markdown",
      "metadata": {
        "id": "mvlGXR3yVMYo"
      },
      "source": [
        "#### 1.6. Делаем предсказания на тестовых данных"
      ]
    },
    {
      "cell_type": "code",
      "execution_count": null,
      "metadata": {
        "colab": {
          "base_uri": "https://localhost:8080/"
        },
        "id": "Rui6kjT01jEA",
        "outputId": "2476dc90-a2d1-4b83-9153-732aea013b97"
      },
      "outputs": [
        {
          "output_type": "stream",
          "name": "stdout",
          "text": [
            "4/4 [==============================] - 0s 5ms/step\n"
          ]
        }
      ],
      "source": [
        "# Ваш код\n",
        "preds = model.predict(x_test_n)"
      ]
    },
    {
      "cell_type": "markdown",
      "metadata": {
        "id": "NLsmmLVkVhkL"
      },
      "source": [
        "#### 1.7. Вычисляем метрику качества на тестовых данных"
      ]
    },
    {
      "cell_type": "code",
      "execution_count": null,
      "metadata": {
        "colab": {
          "base_uri": "https://localhost:8080/"
        },
        "id": "V8cpkQnr1jcS",
        "outputId": "d61b769c-43f2-4ade-cd65-eab2556c83f6"
      },
      "outputs": [
        {
          "output_type": "execute_result",
          "data": {
            "text/plain": [
              "2.4837434768676756"
            ]
          },
          "metadata": {},
          "execution_count": 15
        }
      ],
      "source": [
        "# Ваш код\n",
        "from sklearn.metrics import mean_absolute_error\n",
        "\n",
        "mean_absolute_error(preds, y_test)"
      ]
    },
    {
      "cell_type": "markdown",
      "metadata": {
        "id": "d4eyitaoKx_E"
      },
      "source": [
        "#### 1.8. Строим график обучения"
      ]
    },
    {
      "cell_type": "code",
      "execution_count": null,
      "metadata": {
        "colab": {
          "base_uri": "https://localhost:8080/",
          "height": 494
        },
        "id": "tw-JEpqm1jyK",
        "outputId": "60ddf9c3-1437-4530-eff8-c6cda39c81f3"
      },
      "outputs": [
        {
          "output_type": "execute_result",
          "data": {
            "text/plain": [
              "<matplotlib.legend.Legend at 0x7cccdd385900>"
            ]
          },
          "metadata": {},
          "execution_count": 16
        },
        {
          "output_type": "display_data",
          "data": {
            "text/plain": [
              "<Figure size 640x480 with 1 Axes>"
            ],
            "image/png": "[encoded data removed]"
          },
          "metadata": {}
        }
      ],
      "source": [
        "# Ваш код\n",
        "# строим графики потерь и точности\n",
        "from google.colab.patches import cv2_imshow\n",
        "from matplotlib import pyplot as plt\n",
        "\n",
        "N = np.arange(0, EPOCHS)\n",
        "plt.style.use(\"ggplot\")\n",
        "plt.figure()\n",
        "plt.plot(N, history.history[\"loss\"], label=\"train_loss\")\n",
        "plt.plot(N, history.history[\"mae\"], label=\"train_mae\")\n",
        "plt.plot(N, history.history[\"val_loss\"], label=\"val_loss\")\n",
        "plt.plot(N, history.history[\"val_mae\"], label=\"val_mae\")\n",
        "plt.title(\"Training Loss and Accuracy (Simple NN)\")\n",
        "plt.xlabel(\"Epoch #\")\n",
        "plt.ylabel(\"Loss/Accuracy\")\n",
        "plt.legend()\n",
        "# plt.savefig('plot.png')\n",
        "# cv2_imshow(cv2.imread(\"plot.png\"))\n"
      ]
    },
    {
      "cell_type": "markdown",
      "metadata": {
        "id": "XYMsbjaoMEqT"
      },
      "source": [
        "#### 1.9. Построение графического интерфейса в Gradio Проверка обученной модели пользовательскими данными"
      ]
    },
    {
      "cell_type": "code",
      "execution_count": null,
      "metadata": {
        "id": "3F9C2JiZf9uy"
      },
      "outputs": [],
      "source": [
        "def preprocess_input(features, scale_model=\"scaler.pkl\"):\n",
        "\n",
        "  \"\"\"\n",
        "  Функция преобразует входные данные в формат,\n",
        "  подходящий для модели машинного обучения.\n",
        "\n",
        "  Args:\n",
        "      features: Список или массив с входными признаками.\n",
        "      scale_model: Путь к файлу с сохраненной моделью масштабирования.\n",
        "\n",
        "  Returns:\n",
        "      Преобразованный массив признаков.\n",
        "  \"\"\"\n",
        "\n",
        "  try:\n",
        "    # Преобразование в NumPy массив\n",
        "    features = np.array(features)\n",
        "\n",
        "    # Проверка на пустой массив\n",
        "    if not features.size:\n",
        "      raise ValueError(\"Пустой массив признаков!\")\n",
        "\n",
        "    # Изменение размерности массива (8,) -> (1, 8)\n",
        "    features = features.reshape(1, -1)\n",
        "\n",
        "    # Загрузка модели масштабирования\n",
        "    with open(scale_model, \"rb\") as f:\n",
        "      scaler = pickle.load(f)\n",
        "\n",
        "    # Масштабирование признаков\n",
        "    features = scaler.transform(features)\n",
        "\n",
        "  except Exception as e:\n",
        "    raise ValueError(f\"Ошибка при предобработке: {e}\")\n",
        "\n",
        "  return features"
      ]
    },
    {
      "cell_type": "code",
      "execution_count": null,
      "metadata": {
        "id": "9Ur4vQg_f-mB"
      },
      "outputs": [],
      "source": [
        "def predict_price(*features):\n",
        "\n",
        "  \"\"\"\n",
        "  Функция прогнозирует цену на основе предобработанных\n",
        "  входных признаков.\n",
        "\n",
        "  Args:\n",
        "      features: Список или массив с входными признаками.\n",
        "\n",
        "  Returns:\n",
        "      Прогнозируемая цена (в долларах).\n",
        "  \"\"\"\n",
        "\n",
        "  try:\n",
        "    # Предобработка входных признаков\n",
        "    features = preprocess_input(features)\n",
        "\n",
        "    # Прогнозирование цены\n",
        "    prediction = model.predict(features, verbose=0)\n",
        "\n",
        "    # Проверка на ошибки прогнозирования\n",
        "    if np.isnan(prediction).any():\n",
        "      raise ValueError(\"Ошибка при прогнозировании: NaN\")\n",
        "\n",
        "  except Exception as e:\n",
        "    raise ValueError(f\"Ошибка при прогнозировании: {e}\")\n",
        "\n",
        "  # Возвращение прогнозируемой цены\n",
        "  # (умножение на 1000 для отображения в тысячах долларов)\n",
        "  return f\"{prediction[0][0] * 1000}\""
      ]
    },
    {
      "cell_type": "code",
      "execution_count": null,
      "metadata": {
        "colab": {
          "base_uri": "https://localhost:8080/",
          "height": 906
        },
        "id": "x-dyoItx2JN_",
        "outputId": "72318b50-acbe-4d94-d498-44150494c494"
      },
      "outputs": [
        {
          "output_type": "stream",
          "name": "stdout",
          "text": [
            "\u001b[2K     \u001b[90m━━━━━━━━━━━━━━━━━━━━━━━━━━━━━━━━━━━━━━━━\u001b[0m \u001b[32m17.0/17.0 MB\u001b[0m \u001b[31m21.0 MB/s\u001b[0m eta \u001b[36m0:00:00\u001b[0m\n",
            "\u001b[2K     \u001b[90m━━━━━━━━━━━━━━━━━━━━━━━━━━━━━━━━━━━━━━━━\u001b[0m \u001b[32m92.1/92.1 kB\u001b[0m \u001b[31m4.8 MB/s\u001b[0m eta \u001b[36m0:00:00\u001b[0m\n",
            "\u001b[?25h  Preparing metadata (setup.py) ... \u001b[?25l\u001b[?25hdone\n",
            "\u001b[2K     \u001b[90m━━━━━━━━━━━━━━━━━━━━━━━━━━━━━━━━━━━━━━━━\u001b[0m \u001b[32m310.7/310.7 kB\u001b[0m \u001b[31m17.7 MB/s\u001b[0m eta \u001b[36m0:00:00\u001b[0m\n",
            "\u001b[2K     \u001b[90m━━━━━━━━━━━━━━━━━━━━━━━━━━━━━━━━━━━━━━━━\u001b[0m \u001b[32m75.6/75.6 kB\u001b[0m \u001b[31m6.4 MB/s\u001b[0m eta \u001b[36m0:00:00\u001b[0m\n",
            "\u001b[2K     \u001b[90m━━━━━━━━━━━━━━━━━━━━━━━━━━━━━━━━━━━━━━━━\u001b[0m \u001b[32m138.5/138.5 kB\u001b[0m \u001b[31m10.7 MB/s\u001b[0m eta \u001b[36m0:00:00\u001b[0m\n",
            "\u001b[2K     \u001b[90m━━━━━━━━━━━━━━━━━━━━━━━━━━━━━━━━━━━━━━━━\u001b[0m \u001b[32m7.9/7.9 MB\u001b[0m \u001b[31m27.7 MB/s\u001b[0m eta \u001b[36m0:00:00\u001b[0m\n",
            "\u001b[2K     \u001b[90m━━━━━━━━━━━━━━━━━━━━━━━━━━━━━━━━━━━━━━━━\u001b[0m \u001b[32m60.6/60.6 kB\u001b[0m \u001b[31m4.6 MB/s\u001b[0m eta \u001b[36m0:00:00\u001b[0m\n",
            "\u001b[2K     \u001b[90m━━━━━━━━━━━━━━━━━━━━━━━━━━━━━━━━━━━━━━━━\u001b[0m \u001b[32m129.9/129.9 kB\u001b[0m \u001b[31m8.8 MB/s\u001b[0m eta \u001b[36m0:00:00\u001b[0m\n",
            "\u001b[2K     \u001b[90m━━━━━━━━━━━━━━━━━━━━━━━━━━━━━━━━━━━━━━━━\u001b[0m \u001b[32m77.8/77.8 kB\u001b[0m \u001b[31m6.7 MB/s\u001b[0m eta \u001b[36m0:00:00\u001b[0m\n",
            "\u001b[2K     \u001b[90m━━━━━━━━━━━━━━━━━━━━━━━━━━━━━━━━━━━━━━━━\u001b[0m \u001b[32m58.3/58.3 kB\u001b[0m \u001b[31m1.6 MB/s\u001b[0m eta \u001b[36m0:00:00\u001b[0m\n",
            "\u001b[2K     \u001b[90m━━━━━━━━━━━━━━━━━━━━━━━━━━━━━━━━━━━━━━━━\u001b[0m \u001b[32m71.5/71.5 kB\u001b[0m \u001b[31m7.3 MB/s\u001b[0m eta \u001b[36m0:00:00\u001b[0m\n",
            "\u001b[?25h  Building wheel for ffmpy (setup.py) ... \u001b[?25l\u001b[?25hdone\n",
            "Colab notebook detected. This cell will run indefinitely so that you can see errors and logs. To turn off, set debug=False in launch().\n",
            "Running on public URL: https://57311e113d6065a98d.gradio.live\n",
            "\n",
            "This share link expires in 72 hours. For free permanent hosting and GPU upgrades, run `gradio deploy` from Terminal to deploy to Spaces (https://huggingface.co/spaces)\n"
          ]
        },
        {
          "output_type": "display_data",
          "data": {
            "text/plain": [
              "<IPython.core.display.HTML object>"
            ],
            "text/html": [
              "<div><iframe src=\"https://57311e113d6065a98d.gradio.live\" width=\"100%\" height=\"500\" allow=\"autoplay; camera; microphone; clipboard-read; clipboard-write;\" frameborder=\"0\" allowfullscreen></iframe></div>"
            ]
          },
          "metadata": {}
        },
        {
          "output_type": "stream",
          "name": "stderr",
          "text": [
            "/usr/local/lib/python3.10/dist-packages/sklearn/base.py:439: UserWarning: X does not have valid feature names, but MinMaxScaler was fitted with feature names\n",
            "  warnings.warn(\n"
          ]
        },
        {
          "output_type": "stream",
          "name": "stdout",
          "text": [
            "Keyboard interruption in main thread... closing server.\n",
            "Killing tunnel 127.0.0.1:7860 <> https://57311e113d6065a98d.gradio.live\n"
          ]
        },
        {
          "output_type": "execute_result",
          "data": {
            "text/plain": []
          },
          "metadata": {},
          "execution_count": 19
        }
      ],
      "source": [
        "# Ваш код\n",
        "!pip install -q gradio\n",
        "\n",
        "import gradio as gr\n",
        "\n",
        "# Интерфейс Gradio\n",
        "interface = gr.Interface(\n",
        "    fn=predict_price,\n",
        "    inputs=[\n",
        "        gr.Slider(label=\"Crime rate\", minimum=0, maximum=100, step=0.1, value=8.6),\n",
        "        gr.Slider(label=\"Land zoned\", minimum=0, maximum=100, step=0.1, value=23.3),\n",
        "        gr.Slider(label=\"Non-retail\", minimum=0, maximum=50, step=0.1, value=6.8),\n",
        "        gr.Slider(label=\"Charles River\", minimum=0, maximum=1, step=0.1, value=0.25),\n",
        "        gr.Slider(label=\"Nitric Oxides\", minimum=0, maximum=1, step=0.1, value=0.11),\n",
        "        gr.Slider(label=\"Average rooms\", minimum=1, maximum=10, step=0.1, value=0.7),\n",
        "        gr.Slider(label=\"Owner-occupied\", minimum=1, maximum=100, step=0.1, value=28.1),\n",
        "        gr.Slider(label=\"Distance center\", minimum=0, maximum=15, step=0.1, value=2.1),\n",
        "        gr.Slider(label=\"Radial highway\", minimum=1, maximum=50, step=0.1, value=8.7),\n",
        "        gr.Slider(label=\"tax-rate per 10k\", minimum=100, maximum=1000, step=0.1, value=168.5),\n",
        "        gr.Slider(label=\"Pupil-teacher rat.\", minimum=1, maximum=50, step=0.1, value=2.1),\n",
        "        gr.Slider(label=\"B\", minimum=0, maximum=1000, step=0.1, value=91.3),\n",
        "        gr.Slider(label=\"Lower status\", minimum=1, maximum=50, step=0.1, value=7.2),\n",
        "    ],\n",
        "    # Обновление при каждом изменении\n",
        "    live=True,\n",
        "    outputs=gr.Text(label=\"Predicted Price ($)\"),\n",
        ")\n",
        "\n",
        "# Запуск интерфейса\n",
        "interface.launch(debug=True, share=True)"
      ]
    },
    {
      "cell_type": "markdown",
      "metadata": {
        "id": "DQQMXC8garr3"
      },
      "source": [
        "## Задание №2.Обучение модели ИНС для решения задачи классификации\n",
        "\n"
      ]
    },
    {
      "cell_type": "markdown",
      "metadata": {
        "id": "1OAwSdaG36Ip"
      },
      "source": [
        "Порядок работы:"
      ]
    },
    {
      "cell_type": "markdown",
      "metadata": {
        "id": "q8COT3YubK-X"
      },
      "source": [
        "* 1. Собрать датасет из изображений, соответствующих не менее, чем 3 классам объектов (в\n",
        "примере с пары были кошки, собаки и панды).\n"
      ]
    },
    {
      "cell_type": "markdown",
      "metadata": {
        "id": "YstDH7J2bM5F"
      },
      "source": [
        "- 2. Для каждого класса должно быть собрано не менее 1000 изображений. Количество\n",
        "изображений для каждого класса должно быть одинаковым.\n",
        "Готовые датасеты можно скачать отсюда: https://www.kaggle.com/\n"
      ]
    },
    {
      "cell_type": "markdown",
      "metadata": {
        "id": "9aTvc3A4bN_h"
      },
      "source": [
        "- 3. Обучить модель глубокой нейронной сети для решения задачи классификации\n",
        "изображений, по выбранным Вами классам. (В качестве примера приведён код с пары)\n",
        "В конечном итоге Вы должны сохранить обученную модель для классификации\n",
        "изображений, соответствующих тем классам, которые Вы выбрали, а затем воспользоваться этой моделью для предсказания классов на пользовательских изображениях.\n",
        "\n"
      ]
    },
    {
      "cell_type": "markdown",
      "metadata": {
        "id": "yKU34aHabUfp"
      },
      "source": [
        "> При выполнении заданий пробуйте использовать разные функции потерь,\n",
        "методы оптимизации, функции активации и метрики ошибок."
      ]
    },
    {
      "cell_type": "markdown",
      "metadata": {
        "id": "l8zEG_g8O-Ge"
      },
      "source": [
        "### 1. Устанавливаем зависимости:"
      ]
    },
    {
      "cell_type": "code",
      "execution_count": null,
      "metadata": {
        "id": "sh6kN7IMO8de"
      },
      "outputs": [],
      "source": [
        "# Импортируем LabelBinarizer для преобразования текстовых меток в векторы\n",
        "# (например, \"кошка\" -> [1, 0, 0], \"собака\" -> [0, 1, 0], \"панда\" -> [0, 0, 1])\n",
        "from sklearn.preprocessing import LabelBinarizer\n",
        "\n",
        "# Импортируем train_test_split для разделения данных на обучающую и тестовую выборки\n",
        "from sklearn.model_selection import train_test_split\n",
        "\n",
        "# Импортируем classification_report для оценки качества классификации\n",
        "from sklearn.metrics import classification_report\n",
        "\n",
        "# Импортируем Sequential для создания последовательной модели нейронной сети\n",
        "from keras.models import Sequential\n",
        "\n",
        "# Импортируем Dense для создания плотных слоев нейронной сети\n",
        "from keras.layers import Dense\n",
        "\n",
        "# Импортируем SGD и Adam для оптимизации обучения нейронной сети\n",
        "from keras.optimizers import SGD, Adam\n",
        "\n",
        "# Импортируем paths из imutils для удобной работы с путями к изображениям\n",
        "from imutils import paths\n",
        "\n",
        "# Импортируем pyplot из matplotlib для визуализации данных\n",
        "import matplotlib.pyplot as plt\n",
        "\n",
        "# Импортируем numpy для работы с массивами данных\n",
        "import numpy as np\n",
        "\n",
        "# Импортируем random для генерации случайных чисел\n",
        "import random\n",
        "\n",
        "# Импортируем pickle для сериализации и десериализации данных\n",
        "import pickle\n",
        "\n",
        "# Импортируем cv2 для работы с изображениями\n",
        "import cv2\n",
        "\n",
        "# Импортируем os для работы с файловой системой\n",
        "import os\n",
        "\n",
        "# Импортируем cv2_imshow из google.colab.patches для отображения изображений в Colab\n",
        "from google.colab.patches import cv2_imshow"
      ]
    },
    {
      "cell_type": "markdown",
      "metadata": {
        "id": "aJextk3pO8Ko"
      },
      "source": [
        "### 2. Загружаем набор данных:"
      ]
    },
    {
      "cell_type": "code",
      "source": [
        "# импортируем бэкенд Agg из matplotlib для сохранения графиков на диск\n",
        "import matplotlib\n",
        "matplotlib.use(\"Agg\")"
      ],
      "metadata": {
        "id": "-y_zyRfwCHF5"
      },
      "execution_count": null,
      "outputs": []
    },
    {
      "cell_type": "code",
      "source": [
        "# Подключаем необходимые модули и пакеты\n",
        "from sklearn.preprocessing import LabelBinarizer\n",
        "from sklearn.model_selection import train_test_split\n",
        "from sklearn.metrics import classification_report\n",
        "from keras.models import Sequential\n",
        "from keras.layers import Dense\n",
        "from keras.optimizers import SGD, Adam\n",
        "from imutils import paths\n",
        "import matplotlib.pyplot as plt\n",
        "import numpy as np\n",
        "import random\n",
        "import pickle\n",
        "import cv2\n",
        "from google.colab.patches import cv2_imshow\n",
        "import os"
      ],
      "metadata": {
        "id": "HINQUa7BCJVD"
      },
      "execution_count": null,
      "outputs": []
    },
    {
      "cell_type": "code",
      "execution_count": null,
      "metadata": {
        "id": "ZQOhPesK2-J8"
      },
      "outputs": [],
      "source": [
        "# Ваш код\n",
        "%%capture\n",
        "DATADIR = 'Dataset'\n",
        "if os.path.isdir(DATADIR)>0:\n",
        "    print ('Data directory already exists and it is not empty, miss downloading')\n",
        "else:\n",
        "    print ('Data directory does not exists or it is empty, download the dataset')\n",
        "    !gdown --id 1bOUvvaioUOMXaYvYY7vqm5y0s1QwuIIk #Скопировать ID из ссылки в гугл диске\n",
        "    !unzip Dataset.zip"
      ]
    },
    {
      "cell_type": "code",
      "source": [
        "# инициализируем данные и метки\n",
        "print(\"[INFO] loading images...\")\n",
        "data = []\n",
        "labels = []"
      ],
      "metadata": {
        "colab": {
          "base_uri": "https://localhost:8080/"
        },
        "id": "L5taN4twCxZe",
        "outputId": "2ce7bc61-0e8b-4791-ea77-321eaa32417a"
      },
      "execution_count": null,
      "outputs": [
        {
          "output_type": "stream",
          "name": "stdout",
          "text": [
            "[INFO] loading images...\n"
          ]
        }
      ]
    },
    {
      "cell_type": "markdown",
      "metadata": {
        "id": "pX1km_kyV2Ka"
      },
      "source": [
        "### 3. Указываем путь к набору данных:"
      ]
    },
    {
      "cell_type": "code",
      "execution_count": null,
      "metadata": {
        "id": "hAqtXKu62-bU",
        "colab": {
          "base_uri": "https://localhost:8080/"
        },
        "outputId": "3a89d0dd-64e4-4b4d-e291-5daf2d5f1257"
      },
      "outputs": [
        {
          "output_type": "stream",
          "name": "stdout",
          "text": [
            "A\n"
          ]
        }
      ],
      "source": [
        "# Ваш код\n",
        "# Собираем список путей к каждому изображению и перемешиваем их\n",
        "imagePaths = sorted(list(paths.list_images(\"/content/Dataset\")))\n",
        "print(imagePaths[700].split(os.path.sep)[-2])\n",
        "random.shuffle(imagePaths)"
      ]
    },
    {
      "cell_type": "markdown",
      "metadata": {
        "id": "sAYZPzKSVobq"
      },
      "source": [
        "### 4. Загружаем набор данных и формируем общую выборку:"
      ]
    },
    {
      "cell_type": "code",
      "execution_count": null,
      "metadata": {
        "id": "1dqs5r-92-x7"
      },
      "outputs": [],
      "source": [
        "img_h = 80\n",
        "img_w = 80\n",
        "img_ch = 3\n",
        "img_vector = img_w*img_w*img_ch"
      ]
    },
    {
      "cell_type": "markdown",
      "metadata": {
        "id": "yeiILoUSXn4c"
      },
      "source": [
        "#### 4.1. Нормализуем данные:"
      ]
    },
    {
      "cell_type": "markdown",
      "metadata": {
        "id": "PceSnJBEZDPm"
      },
      "source": [
        "Масштабируем интенсивности пикселей в диапазон [0, 1], а также преобразуем данные в массивы NumPy для повышения производительности\n"
      ]
    },
    {
      "cell_type": "code",
      "execution_count": null,
      "metadata": {
        "id": "wejqgr9U2_hf"
      },
      "outputs": [],
      "source": [
        "# Ваш код\n",
        "# цикл по изображениям\n",
        "for imagePath in imagePaths[:15000]:\n",
        "\timage = cv2.imread(imagePath) # загружаем изображение\n",
        "\timage = cv2.resize(image, (img_h, img_w)).flatten() # меняем его разрешение на h*w пикселей (без учета соотношения сторон),\t\t\t\t\t\t\t\t\t\t\t\t\t\t\t\t\t\t\t\t\t\t\t# а затем \"выраниваем\" его в вектор, состоящий из (32*32*3) 3072 пикселей\n",
        "\tdata.append(image) # добавляем в список\n",
        "\tlabel = imagePath.split(os.path.sep)[-2] \t# извлекаем метку класса из пути к изображению (метка класса зависит от имени папки)\n",
        "\tlabels.append(label) # обновляем список меток"
      ]
    },
    {
      "cell_type": "code",
      "source": [
        "# масштабируем интенсивности пикселей в диапазон [0, 1] (Нормализация данных)\n",
        "data = np.array(data, dtype=\"float\") / 255.0\n",
        "labels = np.array(labels)"
      ],
      "metadata": {
        "id": "6LPBRuUhDenv"
      },
      "execution_count": null,
      "outputs": []
    },
    {
      "cell_type": "markdown",
      "metadata": {
        "id": "lREm4zIRaSsx"
      },
      "source": [
        "#### 4.2. Формируем обучающую и валидационную выборки:"
      ]
    },
    {
      "cell_type": "markdown",
      "metadata": {
        "id": "lwTSSQkPa9oI"
      },
      "source": [
        "Разделяем данные на обучающую и валидационную выборки, используя 75% данных для обучения и оставшиеся 25% для валидации"
      ]
    },
    {
      "cell_type": "code",
      "execution_count": null,
      "metadata": {
        "id": "R23UTovQ3A7R"
      },
      "outputs": [],
      "source": [
        "# Ваш код\n",
        "# разбиваем данные на обучающую и тестовую выборки, используя 75%\n",
        "# данных для обучения и оставшиеся 25% для тестирования\n",
        "(trainX, valX, trainY, valY) = train_test_split(data,\n",
        "\tlabels, test_size=0.25, random_state=28)"
      ]
    },
    {
      "cell_type": "code",
      "source": [
        "# конвертируем метки из целых чисел в векторы (для 2х классов при\n",
        "# бинарной классификации вам следует использовать функцию Keras\n",
        "# \"to_categorical\" вместо \"LabelBinarizer\" из scikit-learn, которая не возвращает вектор)\n",
        "lb = LabelBinarizer()\n",
        "trainY = lb.fit_transform(trainY)\n",
        "valY = lb.transform(valY)"
      ],
      "metadata": {
        "id": "4JtBi2iDDlK5"
      },
      "execution_count": null,
      "outputs": []
    },
    {
      "cell_type": "markdown",
      "metadata": {
        "id": "Sz33nCuvc3Pk"
      },
      "source": [
        "### 5. Создание модели:"
      ]
    },
    {
      "cell_type": "markdown",
      "metadata": {
        "id": "r2mcOGxEc-uB"
      },
      "source": [
        "#### 5.1. Определим архитектуру модели с помощью Keras:"
      ]
    },
    {
      "cell_type": "code",
      "execution_count": null,
      "metadata": {
        "id": "nj_bAWxv3B0B"
      },
      "outputs": [],
      "source": [
        "# Ваш код\n",
        "# определим архитектуру 3072-1024-512-3 с помощью Keras\n",
        "model = Sequential()\n",
        "model.add(Dense(2048, input_shape=(img_vector,), activation=\"relu\"))\n",
        "model.add(Dense(512, activation=\"relu\"))\n",
        "model.add(Dense(len(lb.classes_), activation=\"softmax\"))"
      ]
    },
    {
      "cell_type": "markdown",
      "metadata": {
        "id": "HHFTdcCkg1Wr"
      },
      "source": [
        "#### 5.2. Установим значение параметров скорости обучения и общего числа эпох\n"
      ]
    },
    {
      "cell_type": "code",
      "execution_count": null,
      "metadata": {
        "id": "pzlpLmGm3CMU"
      },
      "outputs": [],
      "source": [
        "# Ваш код\n",
        "# инициализируем скорость обучения и общее число эпох\n",
        "INIT_LR = 0.01\n",
        "EPOCHS = 80"
      ]
    },
    {
      "cell_type": "markdown",
      "metadata": {
        "id": "YaDdd2wphXLv"
      },
      "source": [
        "#### 5.3. Компилируем модель:"
      ]
    },
    {
      "cell_type": "code",
      "execution_count": null,
      "metadata": {
        "id": "3mxDQXSc3Cc5",
        "colab": {
          "base_uri": "https://localhost:8080/"
        },
        "outputId": "166c8981-868a-4f60-9f28-69717eaeb298"
      },
      "outputs": [
        {
          "output_type": "stream",
          "name": "stderr",
          "text": [
            "WARNING:absl:`lr` is deprecated in Keras optimizer, please use `learning_rate` or use the legacy optimizer, e.g.,tf.keras.optimizers.legacy.SGD.\n"
          ]
        },
        {
          "output_type": "stream",
          "name": "stdout",
          "text": [
            "[INFO] training network...\n"
          ]
        }
      ],
      "source": [
        "# Ваш код\n",
        "# компилируем модель, используя SGD как оптимизатор и категориальную\n",
        "# кросс-энтропию в качестве функции потерь (для бинарной классификации\n",
        "# следует использовать binary_crossentropy)\n",
        "print(\"[INFO] training network...\")\n",
        "opt = SGD(lr=INIT_LR)\n",
        "model.compile(loss=\"categorical_crossentropy\", optimizer=opt,\n",
        "\tmetrics=[\"accuracy\"])"
      ]
    },
    {
      "cell_type": "markdown",
      "metadata": {
        "id": "EaJdxfw4hwjN"
      },
      "source": [
        "### 6. Обучение модели искусственной нейронной сети:"
      ]
    },
    {
      "cell_type": "markdown",
      "metadata": {
        "id": "KAzlK96zi0dy"
      },
      "source": [
        "#### 6.1. Добавим колбэки для сохранения лучшей модели по валидационной точности и остановки обучения, в случае, если модель перестала обучаться:"
      ]
    },
    {
      "cell_type": "code",
      "execution_count": null,
      "metadata": {
        "id": "2d6HT9jU3C3E"
      },
      "outputs": [],
      "source": [
        "# Ваш код\n",
        "from keras.callbacks import EarlyStopping, ModelCheckpoint\n",
        "\n",
        "early_stopping = EarlyStopping(patience=5) # Остановка обучения, если\n",
        "                                             # валидационная точность не\n",
        "                                             # улучшается в течение 5 эпох\n",
        "checkpoint = ModelCheckpoint(filepath=\"best_model.h5\",\n",
        "                             monitor=\"val_accuracy\",\n",
        "                             save_best_only=True,\n",
        "                             verbose=0) # Сохранение модели\n",
        "                                         # только при улучшении\n",
        "                                         # валидационной точности"
      ]
    },
    {
      "cell_type": "markdown",
      "metadata": {
        "id": "IgakM035jDPi"
      },
      "source": [
        "#### 6.2. Запустим процесс обучения модели:"
      ]
    },
    {
      "cell_type": "code",
      "execution_count": null,
      "metadata": {
        "id": "YNloZiKH3DMV",
        "colab": {
          "base_uri": "https://localhost:8080/"
        },
        "outputId": "0d44d849-6217-4bec-b8ad-6d7b9b5537bd"
      },
      "outputs": [
        {
          "output_type": "stream",
          "name": "stdout",
          "text": [
            "Epoch 1/80\n",
            "225/225 [==============================] - ETA: 0s - loss: 3.0525 - accuracy: 0.1445"
          ]
        },
        {
          "output_type": "stream",
          "name": "stderr",
          "text": [
            "/usr/local/lib/python3.10/dist-packages/keras/src/engine/training.py:3103: UserWarning: You are saving your model as an HDF5 file via `model.save()`. This file format is considered legacy. We recommend using instead the native Keras format, e.g. `model.save('my_model.keras')`.\n",
            "  saving_api.save_model(\n"
          ]
        },
        {
          "output_type": "stream",
          "name": "stdout",
          "text": [
            "\b\b\b\b\b\b\b\b\b\b\b\b\b\b\b\b\b\b\b\b\b\b\b\b\b\b\b\b\b\b\b\b\b\b\b\b\b\b\b\b\b\b\b\b\b\b\b\b\b\b\b\b\b\b\b\b\b\b\b\b\b\b\b\b\b\b\b\b\b\b\b\b\b\b\b\b\b\b\b\b\b\b\b\b\r225/225 [==============================] - 103s 459ms/step - loss: 3.0525 - accuracy: 0.1445 - val_loss: 2.9030 - val_accuracy: 0.1595\n",
            "Epoch 2/80\n",
            "225/225 [==============================] - 95s 420ms/step - loss: 2.7420 - accuracy: 0.2113 - val_loss: 2.6758 - val_accuracy: 0.2059\n",
            "Epoch 3/80\n",
            "225/225 [==============================] - 93s 413ms/step - loss: 2.5095 - accuracy: 0.2611 - val_loss: 2.4148 - val_accuracy: 0.2736\n",
            "Epoch 4/80\n",
            "225/225 [==============================] - 92s 411ms/step - loss: 2.3317 - accuracy: 0.3044 - val_loss: 2.2812 - val_accuracy: 0.3000\n",
            "Epoch 5/80\n",
            "225/225 [==============================] - 86s 383ms/step - loss: 2.1804 - accuracy: 0.3398 - val_loss: 2.2026 - val_accuracy: 0.2952\n",
            "Epoch 6/80\n",
            "225/225 [==============================] - 94s 417ms/step - loss: 2.0492 - accuracy: 0.3756 - val_loss: 2.0991 - val_accuracy: 0.3392\n",
            "Epoch 7/80\n",
            "225/225 [==============================] - 94s 418ms/step - loss: 1.9139 - accuracy: 0.4188 - val_loss: 1.9233 - val_accuracy: 0.4069\n",
            "Epoch 8/80\n",
            "225/225 [==============================] - 95s 421ms/step - loss: 1.8141 - accuracy: 0.4380 - val_loss: 1.8040 - val_accuracy: 0.4675\n",
            "Epoch 9/80\n",
            "225/225 [==============================] - 97s 431ms/step - loss: 1.7133 - accuracy: 0.4732 - val_loss: 1.6990 - val_accuracy: 0.4779\n",
            "Epoch 10/80\n",
            "225/225 [==============================] - 86s 383ms/step - loss: 1.5984 - accuracy: 0.5050 - val_loss: 2.0301 - val_accuracy: 0.3803\n",
            "Epoch 11/80\n",
            "225/225 [==============================] - 98s 438ms/step - loss: 1.5233 - accuracy: 0.5244 - val_loss: 1.5796 - val_accuracy: 0.5077\n",
            "Epoch 12/80\n",
            "225/225 [==============================] - 97s 432ms/step - loss: 1.4589 - accuracy: 0.5425 - val_loss: 1.5229 - val_accuracy: 0.5149\n",
            "Epoch 13/80\n",
            "225/225 [==============================] - 95s 423ms/step - loss: 1.3868 - accuracy: 0.5708 - val_loss: 1.4028 - val_accuracy: 0.5600\n",
            "Epoch 14/80\n",
            "225/225 [==============================] - 89s 393ms/step - loss: 1.3331 - accuracy: 0.5842 - val_loss: 1.7505 - val_accuracy: 0.4656\n",
            "Epoch 15/80\n",
            "225/225 [==============================] - 90s 399ms/step - loss: 1.2443 - accuracy: 0.6119 - val_loss: 1.3910 - val_accuracy: 0.5467\n",
            "Epoch 16/80\n",
            "225/225 [==============================] - 97s 432ms/step - loss: 1.1941 - accuracy: 0.6234 - val_loss: 1.3138 - val_accuracy: 0.5824\n",
            "Epoch 17/80\n",
            "225/225 [==============================] - 92s 411ms/step - loss: 1.1386 - accuracy: 0.6383 - val_loss: 1.2096 - val_accuracy: 0.6184\n",
            "Epoch 18/80\n",
            "225/225 [==============================] - 89s 395ms/step - loss: 1.1006 - accuracy: 0.6489 - val_loss: 1.2229 - val_accuracy: 0.6163\n",
            "Epoch 19/80\n",
            "225/225 [==============================] - 89s 397ms/step - loss: 1.0602 - accuracy: 0.6708 - val_loss: 1.2057 - val_accuracy: 0.6141\n",
            "Epoch 20/80\n",
            "225/225 [==============================] - 94s 417ms/step - loss: 1.0168 - accuracy: 0.6751 - val_loss: 1.1030 - val_accuracy: 0.6408\n",
            "Epoch 21/80\n",
            "225/225 [==============================] - 93s 412ms/step - loss: 0.9813 - accuracy: 0.6948 - val_loss: 1.0543 - val_accuracy: 0.6621\n",
            "Epoch 22/80\n",
            "225/225 [==============================] - 89s 394ms/step - loss: 0.9220 - accuracy: 0.7088 - val_loss: 1.0933 - val_accuracy: 0.6480\n",
            "Epoch 23/80\n",
            "225/225 [==============================] - 94s 418ms/step - loss: 0.8883 - accuracy: 0.7171 - val_loss: 0.9288 - val_accuracy: 0.7208\n",
            "Epoch 24/80\n",
            "225/225 [==============================] - 87s 388ms/step - loss: 0.8766 - accuracy: 0.7255 - val_loss: 1.0417 - val_accuracy: 0.6624\n",
            "Epoch 25/80\n",
            "225/225 [==============================] - 89s 396ms/step - loss: 0.8324 - accuracy: 0.7391 - val_loss: 0.9470 - val_accuracy: 0.7003\n",
            "Epoch 26/80\n",
            "225/225 [==============================] - 92s 409ms/step - loss: 0.7815 - accuracy: 0.7530 - val_loss: 0.9793 - val_accuracy: 0.6587\n",
            "Epoch 27/80\n",
            "225/225 [==============================] - 90s 400ms/step - loss: 0.7805 - accuracy: 0.7530 - val_loss: 0.9622 - val_accuracy: 0.6861\n",
            "Epoch 28/80\n",
            "225/225 [==============================] - 92s 408ms/step - loss: 0.7522 - accuracy: 0.7611 - val_loss: 0.8102 - val_accuracy: 0.7443\n",
            "Epoch 29/80\n",
            "225/225 [==============================] - 87s 389ms/step - loss: 0.7097 - accuracy: 0.7740 - val_loss: 0.8348 - val_accuracy: 0.7203\n",
            "Epoch 30/80\n",
            "225/225 [==============================] - 88s 391ms/step - loss: 0.6680 - accuracy: 0.7900 - val_loss: 0.8316 - val_accuracy: 0.7189\n",
            "Epoch 31/80\n",
            "225/225 [==============================] - 102s 453ms/step - loss: 0.6651 - accuracy: 0.7939 - val_loss: 0.7705 - val_accuracy: 0.7560\n",
            "Epoch 32/80\n",
            "225/225 [==============================] - 90s 399ms/step - loss: 0.6321 - accuracy: 0.8039 - val_loss: 0.8067 - val_accuracy: 0.7395\n",
            "Epoch 33/80\n",
            "225/225 [==============================] - 92s 407ms/step - loss: 0.6433 - accuracy: 0.8043 - val_loss: 0.7288 - val_accuracy: 0.7640\n",
            "Epoch 34/80\n",
            "225/225 [==============================] - 91s 403ms/step - loss: 0.5932 - accuracy: 0.8140 - val_loss: 0.8140 - val_accuracy: 0.7376\n",
            "Epoch 35/80\n",
            "225/225 [==============================] - 99s 439ms/step - loss: 0.5971 - accuracy: 0.8128 - val_loss: 0.7052 - val_accuracy: 0.7728\n",
            "Epoch 36/80\n",
            "225/225 [==============================] - 89s 392ms/step - loss: 0.6227 - accuracy: 0.8135 - val_loss: 0.7705 - val_accuracy: 0.7680\n",
            "Epoch 37/80\n",
            "225/225 [==============================] - 89s 398ms/step - loss: 0.5409 - accuracy: 0.8313 - val_loss: 0.6874 - val_accuracy: 0.7723\n",
            "Epoch 38/80\n",
            "225/225 [==============================] - 95s 424ms/step - loss: 0.5019 - accuracy: 0.8473 - val_loss: 0.7369 - val_accuracy: 0.7435\n",
            "Epoch 39/80\n",
            "225/225 [==============================] - 114s 507ms/step - loss: 0.5181 - accuracy: 0.8387 - val_loss: 0.6149 - val_accuracy: 0.8085\n",
            "Epoch 40/80\n",
            "225/225 [==============================] - 102s 451ms/step - loss: 0.4921 - accuracy: 0.8478 - val_loss: 0.7255 - val_accuracy: 0.7576\n",
            "Epoch 41/80\n",
            "225/225 [==============================] - 104s 464ms/step - loss: 0.4573 - accuracy: 0.8612 - val_loss: 0.7204 - val_accuracy: 0.7597\n",
            "Epoch 42/80\n",
            "225/225 [==============================] - 110s 487ms/step - loss: 0.4335 - accuracy: 0.8660 - val_loss: 0.5589 - val_accuracy: 0.8301\n",
            "Epoch 43/80\n",
            "225/225 [==============================] - 101s 451ms/step - loss: 0.4606 - accuracy: 0.8612 - val_loss: 0.7007 - val_accuracy: 0.7640\n",
            "Epoch 44/80\n",
            "225/225 [==============================] - 101s 448ms/step - loss: 0.4338 - accuracy: 0.8689 - val_loss: 0.5696 - val_accuracy: 0.8128\n",
            "Epoch 45/80\n",
            "225/225 [==============================] - 103s 460ms/step - loss: 0.3983 - accuracy: 0.8798 - val_loss: 0.5710 - val_accuracy: 0.8187\n",
            "Epoch 46/80\n",
            "225/225 [==============================] - 100s 444ms/step - loss: 0.4034 - accuracy: 0.8761 - val_loss: 0.5588 - val_accuracy: 0.8107\n",
            "Epoch 47/80\n",
            "225/225 [==============================] - 103s 456ms/step - loss: 0.3996 - accuracy: 0.8800 - val_loss: 0.6402 - val_accuracy: 0.7875\n",
            "Epoch 48/80\n",
            "225/225 [==============================] - 96s 427ms/step - loss: 0.3658 - accuracy: 0.8913 - val_loss: 0.5735 - val_accuracy: 0.8123\n",
            "Epoch 49/80\n",
            "225/225 [==============================] - 98s 438ms/step - loss: 0.4130 - accuracy: 0.8812 - val_loss: 0.5185 - val_accuracy: 0.8403\n",
            "Epoch 50/80\n",
            "225/225 [==============================] - 101s 450ms/step - loss: 0.3729 - accuracy: 0.8868 - val_loss: 0.5012 - val_accuracy: 0.8437\n",
            "Epoch 51/80\n",
            "225/225 [==============================] - 91s 406ms/step - loss: 0.3457 - accuracy: 0.8948 - val_loss: 0.5554 - val_accuracy: 0.8216\n",
            "Epoch 52/80\n",
            "225/225 [==============================] - 103s 458ms/step - loss: 0.3419 - accuracy: 0.8982 - val_loss: 0.4692 - val_accuracy: 0.8637\n",
            "Epoch 53/80\n",
            "225/225 [==============================] - 91s 401ms/step - loss: 0.4387 - accuracy: 0.8859 - val_loss: 0.6675 - val_accuracy: 0.7731\n",
            "Epoch 54/80\n",
            "225/225 [==============================] - 91s 404ms/step - loss: 0.3081 - accuracy: 0.9096 - val_loss: 0.5049 - val_accuracy: 0.8435\n",
            "Epoch 55/80\n",
            "225/225 [==============================] - 92s 411ms/step - loss: 0.3018 - accuracy: 0.9122 - val_loss: 0.5835 - val_accuracy: 0.8037\n",
            "Epoch 56/80\n",
            "225/225 [==============================] - 90s 399ms/step - loss: 0.2978 - accuracy: 0.9119 - val_loss: 0.4647 - val_accuracy: 0.8557\n",
            "Epoch 57/80\n",
            "225/225 [==============================] - 92s 411ms/step - loss: 0.3233 - accuracy: 0.9085 - val_loss: 0.4669 - val_accuracy: 0.8472\n",
            "Epoch 58/80\n",
            "225/225 [==============================] - 97s 431ms/step - loss: 0.2684 - accuracy: 0.9246 - val_loss: 0.4376 - val_accuracy: 0.8648\n",
            "Epoch 59/80\n",
            "225/225 [==============================] - 91s 402ms/step - loss: 0.2646 - accuracy: 0.9224 - val_loss: 0.4453 - val_accuracy: 0.8592\n",
            "Epoch 60/80\n",
            "225/225 [==============================] - 90s 402ms/step - loss: 0.2622 - accuracy: 0.9246 - val_loss: 0.4960 - val_accuracy: 0.8371\n",
            "Epoch 61/80\n",
            "225/225 [==============================] - 100s 446ms/step - loss: 0.2569 - accuracy: 0.9264 - val_loss: 0.4204 - val_accuracy: 0.8704\n",
            "Epoch 62/80\n",
            "225/225 [==============================] - 93s 411ms/step - loss: 0.2363 - accuracy: 0.9308 - val_loss: 0.5963 - val_accuracy: 0.7997\n",
            "Epoch 63/80\n",
            "225/225 [==============================] - 101s 451ms/step - loss: 0.3958 - accuracy: 0.8964 - val_loss: 0.4217 - val_accuracy: 0.8739\n",
            "Epoch 64/80\n",
            "225/225 [==============================] - 100s 442ms/step - loss: 0.2644 - accuracy: 0.9284 - val_loss: 0.4140 - val_accuracy: 0.8752\n",
            "Epoch 65/80\n",
            "225/225 [==============================] - 90s 398ms/step - loss: 0.2680 - accuracy: 0.9229 - val_loss: 0.4344 - val_accuracy: 0.8621\n",
            "Epoch 66/80\n",
            "225/225 [==============================] - 91s 407ms/step - loss: 0.2151 - accuracy: 0.9420 - val_loss: 0.4715 - val_accuracy: 0.8491\n",
            "Epoch 67/80\n",
            "225/225 [==============================] - 91s 402ms/step - loss: 0.2112 - accuracy: 0.9418 - val_loss: 0.5811 - val_accuracy: 0.8043\n",
            "Epoch 68/80\n",
            "225/225 [==============================] - 97s 432ms/step - loss: 0.2141 - accuracy: 0.9405 - val_loss: 0.3812 - val_accuracy: 0.8795\n",
            "Epoch 69/80\n",
            "225/225 [==============================] - 102s 454ms/step - loss: 0.2418 - accuracy: 0.9339 - val_loss: 0.3753 - val_accuracy: 0.8851\n",
            "Epoch 70/80\n",
            "225/225 [==============================] - 87s 386ms/step - loss: 0.1982 - accuracy: 0.9441 - val_loss: 0.3926 - val_accuracy: 0.8768\n",
            "Epoch 71/80\n",
            "225/225 [==============================] - 100s 447ms/step - loss: 0.2193 - accuracy: 0.9404 - val_loss: 0.3737 - val_accuracy: 0.8867\n",
            "Epoch 72/80\n",
            "225/225 [==============================] - 90s 400ms/step - loss: 0.2316 - accuracy: 0.9403 - val_loss: 0.3632 - val_accuracy: 0.8853\n",
            "Epoch 73/80\n",
            "225/225 [==============================] - 103s 460ms/step - loss: 0.1777 - accuracy: 0.9542 - val_loss: 0.3854 - val_accuracy: 0.8923\n",
            "Epoch 74/80\n",
            "225/225 [==============================] - 91s 402ms/step - loss: 0.1823 - accuracy: 0.9488 - val_loss: 0.4376 - val_accuracy: 0.8608\n",
            "Epoch 75/80\n",
            "225/225 [==============================] - 91s 405ms/step - loss: 0.2414 - accuracy: 0.9399 - val_loss: 0.3758 - val_accuracy: 0.8829\n",
            "Epoch 76/80\n",
            "225/225 [==============================] - 103s 456ms/step - loss: 0.1647 - accuracy: 0.9548 - val_loss: 0.3436 - val_accuracy: 0.9000\n",
            "Epoch 77/80\n",
            "225/225 [==============================] - 91s 402ms/step - loss: 0.1658 - accuracy: 0.9563 - val_loss: 0.3733 - val_accuracy: 0.8821\n",
            "Epoch 78/80\n",
            "225/225 [==============================] - 93s 415ms/step - loss: 0.1894 - accuracy: 0.9483 - val_loss: 0.3475 - val_accuracy: 0.8992\n",
            "Epoch 79/80\n",
            "225/225 [==============================] - 101s 449ms/step - loss: 0.1533 - accuracy: 0.9604 - val_loss: 0.3430 - val_accuracy: 0.9019\n",
            "Epoch 80/80\n",
            "225/225 [==============================] - 107s 477ms/step - loss: 0.1990 - accuracy: 0.9485 - val_loss: 0.3384 - val_accuracy: 0.9067\n"
          ]
        }
      ],
      "source": [
        "# Ваш код\n",
        "# обучаем нейросеть\n",
        "H = model.fit(trainX, trainY, validation_data=(valX, valY),\n",
        "\tepochs=EPOCHS, batch_size=50, callbacks=[early_stopping, checkpoint])"
      ]
    },
    {
      "cell_type": "markdown",
      "metadata": {
        "id": "-dESH383noKz"
      },
      "source": [
        "#### 6.3. Загружаем лучшую модель:"
      ]
    },
    {
      "cell_type": "code",
      "source": [
        "print(H.params['epochs'])"
      ],
      "metadata": {
        "colab": {
          "base_uri": "https://localhost:8080/"
        },
        "id": "BatITvA85PiD",
        "outputId": "70cf1847-4185-41ff-b21e-6cb5a379ad39"
      },
      "execution_count": null,
      "outputs": [
        {
          "output_type": "stream",
          "name": "stdout",
          "text": [
            "80\n"
          ]
        }
      ]
    },
    {
      "cell_type": "code",
      "execution_count": null,
      "metadata": {
        "id": "_ZOMBkJk3Dgk"
      },
      "outputs": [],
      "source": [
        "# Ваш код\n",
        "from keras.models import load_model\n",
        "\n",
        "model = load_model(\"/content/best_model.h5\")"
      ]
    },
    {
      "cell_type": "markdown",
      "metadata": {
        "id": "CLv-TknOoQ8l"
      },
      "source": [
        "### 7. Оценка точности:"
      ]
    },
    {
      "cell_type": "markdown",
      "metadata": {
        "id": "J16c8i49o2Kq"
      },
      "source": [
        "#### 7.1. Выведем отчет классификации"
      ]
    },
    {
      "cell_type": "code",
      "execution_count": null,
      "metadata": {
        "id": "cqmQz4mO3D5s",
        "colab": {
          "base_uri": "https://localhost:8080/"
        },
        "outputId": "ffbb874c-a97c-486a-fdea-2041e9e40e27"
      },
      "outputs": [
        {
          "output_type": "stream",
          "name": "stdout",
          "text": [
            "[INFO] evaluating network...\n",
            "118/118 [==============================] - 10s 88ms/step\n",
            "              precision    recall  f1-score   support\n",
            "\n",
            "           A       0.94      0.85      0.89       122\n",
            "           B       0.88      0.86      0.87       106\n",
            "           C       0.93      0.96      0.95       127\n",
            "           D       0.87      0.95      0.91       131\n",
            "           E       0.87      0.80      0.83       130\n",
            "           F       0.98      0.95      0.96       111\n",
            "           G       0.98      0.95      0.97       132\n",
            "           H       0.98      0.96      0.97       132\n",
            "           I       0.99      0.88      0.94       155\n",
            "           J       0.93      0.97      0.95       102\n",
            "           K       0.99      0.87      0.92       127\n",
            "           L       0.90      0.94      0.92       142\n",
            "           M       0.92      0.94      0.93       131\n",
            "           N       0.97      0.95      0.96       128\n",
            "           O       0.92      0.92      0.92       122\n",
            "           P       0.98      0.92      0.95       126\n",
            "           Q       0.90      0.97      0.93       144\n",
            "           R       0.72      0.91      0.80       129\n",
            "           S       0.87      0.96      0.91       131\n",
            "           T       0.93      0.93      0.93       128\n",
            "           U       0.76      0.76      0.76       139\n",
            "           V       0.75      0.78      0.77       130\n",
            "           W       0.88      0.72      0.79       148\n",
            "           X       0.87      0.91      0.89       137\n",
            "           Y       0.94      0.92      0.93       145\n",
            "           Z       0.95      0.96      0.96       108\n",
            "         del       0.89      0.93      0.91       132\n",
            "     nothing       0.98      0.98      0.98       123\n",
            "       space       0.95      0.92      0.93       132\n",
            "\n",
            "    accuracy                           0.91      3750\n",
            "   macro avg       0.91      0.91      0.91      3750\n",
            "weighted avg       0.91      0.91      0.91      3750\n",
            "\n"
          ]
        }
      ],
      "source": [
        "# Ваш код\n",
        "# оцениваем нейросеть\n",
        "print(\"[INFO] evaluating network...\")\n",
        "predictions = model.predict(valX, batch_size=32)\n",
        "print(classification_report(valY.argmax(axis=1),\n",
        "\tpredictions.argmax(axis=1), target_names=lb.classes_))"
      ]
    },
    {
      "cell_type": "markdown",
      "metadata": {
        "id": "YwbFnynjpKYS"
      },
      "source": [
        "#### 7.2. Выведем матрицу ошибок"
      ]
    },
    {
      "cell_type": "code",
      "execution_count": null,
      "metadata": {
        "id": "77_vkdSk3EOd",
        "colab": {
          "base_uri": "https://localhost:8080/"
        },
        "outputId": "7af6981d-13cd-4636-d6ca-7b4f2e74aa0b"
      },
      "outputs": [
        {
          "output_type": "stream",
          "name": "stdout",
          "text": [
            "118/118 [==============================] - 11s 90ms/step\n"
          ]
        }
      ],
      "source": [
        "# Ваш код\n",
        "from sklearn.metrics import confusion_matrix\n",
        "import seaborn as sns\n",
        "\n",
        "# Получим прогнозы по валидационным даннным\n",
        "Y_pred = model.predict(valX, batch_size=32)\n",
        "\n",
        "# Преобразуем вероятности в метки классов\n",
        "Y_pred = Y_pred.argmax(axis=1)\n",
        "Y_val = valY.argmax(axis=1)\n",
        "\n",
        "# Вычисляем матрицу ошибок\n",
        "conf_mat = confusion_matrix(Y_val, Y_pred)\n",
        "\n",
        "# Визуализируем матрицу ошибок\n",
        "sns.heatmap(conf_mat, annot=True, fmt=\"d\", cmap=\"YlGnBu\")\n",
        "plt.show()"
      ]
    },
    {
      "cell_type": "markdown",
      "metadata": {
        "id": "oqoaYCciugwi"
      },
      "source": [
        "#### 7.3. Отобразим график обучения"
      ]
    },
    {
      "cell_type": "code",
      "execution_count": null,
      "metadata": {
        "id": "ALa4XomM3EmL",
        "colab": {
          "base_uri": "https://localhost:8080/",
          "height": 497
        },
        "outputId": "88549071-b15e-4ab7-e8eb-a60b912e4814"
      },
      "outputs": [
        {
          "output_type": "display_data",
          "data": {
            "text/plain": [
              "<PIL.Image.Image image mode=RGB size=640x480>"
            ],
            "image/png": "[encoded data removed]"
          },
          "metadata": {}
        }
      ],
      "source": [
        "# Ваш код\n",
        "# строим графики потерь и точности\n",
        "N = np.arange(0, H.params['epochs'])\n",
        "plt.style.use(\"ggplot\")\n",
        "plt.figure()\n",
        "plt.plot(N, H.history[\"loss\"], label=\"train_loss\")\n",
        "plt.plot(N, H.history[\"val_loss\"], label=\"val_loss\")\n",
        "plt.plot(N, H.history[\"accuracy\"], label=\"train_acc\")\n",
        "plt.plot(N, H.history[\"val_accuracy\"], label=\"val_acc\")\n",
        "plt.title(\"Training Loss and Accuracy (Simple NN)\")\n",
        "plt.xlabel(\"Epoch #\")\n",
        "plt.ylabel(\"Loss/Accuracy\")\n",
        "plt.legend()\n",
        "plt.savefig('plot.png')\n",
        "cv2_imshow(cv2.imread(\"plot.png\"))"
      ]
    },
    {
      "cell_type": "markdown",
      "metadata": {
        "id": "RZfpw-xQu3Q8"
      },
      "source": [
        "### 8. Сохранение модели и меток классов:"
      ]
    },
    {
      "cell_type": "code",
      "execution_count": null,
      "metadata": {
        "id": "mGlt9K8N3E7D"
      },
      "outputs": [],
      "source": [
        "\n",
        "def save_model_and_labels(model, lb, model_path = \"model.h5\", labels_path = \"label_bin\"):\n",
        "    \"\"\"\n",
        "    Сохраняет модель машинного обучения и метки классов в бинарном формате на диск.\n",
        "\n",
        "    Args:\n",
        "        model: Модель машинного обучения.\n",
        "        lb: Метки классов.\n",
        "        model_path: Путь к файлу модели.\n",
        "        labels_path: Путь к файлу меток.\n",
        "\n",
        "    Returns:\n",
        "        None.\n",
        "    \"\"\"\n",
        "\n",
        "    # Сохранение модели\n",
        "    model.save(model_path, save_format=\"h5\")\n",
        "\n",
        "    # Сохранение меток\n",
        "    with open(labels_path, \"wb\") as f:\n",
        "        f.write(pickle.dumps(lb))"
      ]
    },
    {
      "cell_type": "code",
      "source": [
        "\n",
        "model_path = \"model.h5\"\n",
        "labels_path = \"label_bin\"\n",
        "\n",
        "save_model_and_labels(model, lb, model_path, labels_path)"
      ],
      "metadata": {
        "id": "2oD8aHBfbzIX"
      },
      "execution_count": null,
      "outputs": []
    },
    {
      "cell_type": "markdown",
      "metadata": {
        "id": "YjyCuhw1aeti"
      },
      "source": [
        "### 9. Проверка обученной модели пользовательскими данными:"
      ]
    },
    {
      "cell_type": "code",
      "source": [
        "!pip install -q gradio"
      ],
      "metadata": {
        "id": "8PZ6U_R0cXy1"
      },
      "execution_count": null,
      "outputs": []
    },
    {
      "cell_type": "markdown",
      "metadata": {
        "id": "yfUIW800wuyu"
      },
      "source": [
        "#### 9.1. Импортируем необходимые библиотеки"
      ]
    },
    {
      "cell_type": "code",
      "execution_count": null,
      "metadata": {
        "id": "wk1qihbS3FR1"
      },
      "outputs": [],
      "source": [
        "# Ваш код\n",
        "from keras.models import load_model\n",
        "import gradio as gr  # Библиотека для создания веб-интерфейсов\n",
        "import pickle\n",
        "import cv2"
      ]
    },
    {
      "cell_type": "markdown",
      "metadata": {
        "id": "PM2dadCBwzES"
      },
      "source": [
        "#### 9.2. Реализуем функцию для предобработки входных данных в той же последовательности, что и при формировании обучающей выборки:"
      ]
    },
    {
      "cell_type": "code",
      "execution_count": null,
      "metadata": {
        "id": "P4KLc85A3FkU"
      },
      "outputs": [],
      "source": [
        "# Функция для предобработки изображения\n",
        "def preprocess_image(img, compression_size = 80):\n",
        "\n",
        "    \"\"\"\n",
        "    Функция для изменения размера, \"выравнивания\" и масштабирования изображения.\n",
        "\n",
        "    Args:\n",
        "    img: Изображение.\n",
        "\n",
        "    Returns:\n",
        "    Предобработанное изображение.\n",
        "    \"\"\"\n",
        "\n",
        "    image = img.copy()  # Создаем копию изображения\n",
        "    # Изменяем размер изображения до compression_size x compression_size пикселей\n",
        "    image = cv2.resize(image, (compression_size, compression_size))\n",
        "    # Преобразуем изображение в одномерный массив (вектор)\n",
        "    image = image.flatten()\n",
        "    # Масштабируем значения пикселей к диапазону [0, 1]\n",
        "    image = image.astype(\"float\") / 255.0\n",
        "    # Преобразуем массив в формат, совместимый с нашей моделью Keras\n",
        "    image = image.reshape((1, image.shape[0]))\n",
        "\n",
        "    return image\n",
        "\n",
        "# Ваш код\n",
        "# Добавляем интерфейс для загрузки изображений напрямую из блокнота\n",
        "# from google.colab import files\n",
        "# uploaded = files.upload()\n",
        "\n",
        "# загружаем входное изображение, меняем его размер на необходимый и выводим его\n",
        "# image = cv2.imread(list(uploaded.keys())[0])\n",
        "# output = image.copy()\n",
        "# image = cv2.resize(image, (80, 80))\n",
        "# cv2_imshow(image)"
      ]
    },
    {
      "cell_type": "code",
      "source": [
        "def predict_image(img, preprocess_func = preprocess_image, model_path = \"model.h5\", label_path = \"label_bin\"):\n",
        "\n",
        "    \"\"\"\n",
        "    Функция для выполнения предсказания класса, возвращает\n",
        "    словарь с вероятностями для каждого класса.\n",
        "\n",
        "    Args:\n",
        "    img: Изображение.\n",
        "    preprocess_funk: Функция для предобработки изображения.\n",
        "    model_path: Путь к файлу модели.\n",
        "    label_path: Путь к файлу с метками.\n",
        "\n",
        "    Returns:\n",
        "    Словарь с метками и вероятностями для каждого класса.\n",
        "    \"\"\"\n",
        "\n",
        "    # Загружаем модель и метки\n",
        "    model = load_model(model_path)  # Загрузка модели Keras\n",
        "    lb = pickle.loads(open(label_path, \"rb\").read())  # Загрузка словаря с метками\n",
        "\n",
        "    # Делаем предсказание на изображении\n",
        "    image = preprocess_func(img.copy())  # Предобработка изображения\n",
        "    preds = model.predict(image).flatten()  # Выполнение предсказания\n",
        "\n",
        "    # Возвращаем словарь с метками и вероятностями для каждого класса\n",
        "    confidences = {lb.classes_[i]: float(preds[i]) for i in range(len(preds))}\n",
        "\n",
        "    return confidences"
      ],
      "metadata": {
        "id": "IdI4Gyy5eTbt"
      },
      "execution_count": null,
      "outputs": []
    },
    {
      "cell_type": "markdown",
      "metadata": {
        "id": "UXPI1dAIxvPz"
      },
      "source": [
        "#### 9.3. Определим функцию для осуществления прогноза по загруженной модели:"
      ]
    },
    {
      "cell_type": "code",
      "execution_count": null,
      "metadata": {
        "id": "LO4Ty_t0anmv"
      },
      "outputs": [],
      "source": [
        "# Ваш код"
      ]
    },
    {
      "cell_type": "markdown",
      "metadata": {
        "id": "acXaOZ_z3dDq"
      },
      "source": [
        "### 10. Визуализируем интерфейс и произведем классификацию:"
      ]
    },
    {
      "cell_type": "code",
      "execution_count": null,
      "metadata": {
        "id": "5wW8xYEB3dDr"
      },
      "outputs": [],
      "source": [
        "# Ваш код"
      ]
    },
    {
      "cell_type": "code",
      "source": [
        "# Создаем интерфейс Gradio\n",
        "interface = gr.Interface(\n",
        "    fn=predict_image,  # Функция, которая будет вызываться при загрузке изображения\n",
        "    inputs=gr.Image(label=\"Загрузите изображение\"),  # Входные данные: изображение\n",
        "    outputs= gr.Label(num_top_classes=len(lb.classes_)), # Выходные данные: топ-N классов с наибольшей вероятностью\n",
        ")\n",
        "\n",
        "# Запускаем интерфейс\n",
        "interface.launch(share=True)"
      ],
      "metadata": {
        "colab": {
          "base_uri": "https://localhost:8080/",
          "height": 611
        },
        "id": "7HPwdpWTedC5",
        "outputId": "fcb41523-424a-4c13-f72f-df3d6325c9a7"
      },
      "execution_count": null,
      "outputs": [
        {
          "output_type": "stream",
          "name": "stdout",
          "text": [
            "Colab notebook detected. To show errors in colab notebook, set debug=True in launch()\n",
            "Running on public URL: https://f2403ab74951de3a07.gradio.live\n",
            "\n",
            "This share link expires in 72 hours. For free permanent hosting and GPU upgrades, run `gradio deploy` from Terminal to deploy to Spaces (https://huggingface.co/spaces)\n"
          ]
        },
        {
          "output_type": "display_data",
          "data": {
            "text/plain": [
              "<IPython.core.display.HTML object>"
            ],
            "text/html": [
              "<div><iframe src=\"https://f2403ab74951de3a07.gradio.live\" width=\"100%\" height=\"500\" allow=\"autoplay; camera; microphone; clipboard-read; clipboard-write;\" frameborder=\"0\" allowfullscreen></iframe></div>"
            ]
          },
          "metadata": {}
        },
        {
          "output_type": "execute_result",
          "data": {
            "text/plain": []
          },
          "metadata": {},
          "execution_count": 59
        }
      ]
    }
  ],
  "metadata": {
    "colab": {
      "provenance": [],
      "gpuType": "T4",
      "include_colab_link": true
    },
    "kernelspec": {
      "display_name": "Python 3",
      "name": "python3"
    },
    "language_info": {
      "name": "python"
    },
    "accelerator": "GPU"
  },
  "nbformat": 4,
  "nbformat_minor": 0
}
